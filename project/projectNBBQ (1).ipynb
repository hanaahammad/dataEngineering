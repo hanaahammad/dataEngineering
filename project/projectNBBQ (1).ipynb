{
  "nbformat": 4,
  "nbformat_minor": 0,
  "metadata": {
    "colab": {
      "name": "Untitled notebook",
      "cell_execution_strategy": "setup",
      "provenance": []
    },
    "kernelspec": {
      "name": "python3",
      "display_name": "Python 3"
    },
    "language_info": {
      "name": "python"
    },
    "widgets": {
      "application/vnd.jupyter.widget-state+json": {
        "406dde676b704ad88314470903ec5e19": {
          "model_module": "@jupyter-widgets/controls",
          "model_name": "HBoxModel",
          "model_module_version": "1.5.0",
          "state": {
            "_dom_classes": [],
            "_model_module": "@jupyter-widgets/controls",
            "_model_module_version": "1.5.0",
            "_model_name": "HBoxModel",
            "_view_count": null,
            "_view_module": "@jupyter-widgets/controls",
            "_view_module_version": "1.5.0",
            "_view_name": "HBoxView",
            "box_style": "",
            "children": [
              "IPY_MODEL_6fd0e3fc04214c668c9676325d99eb1f",
              "IPY_MODEL_8544601470934b2ba8042cadbd8d8484",
              "IPY_MODEL_767b925a07324a2c85f44579cd6d2a4e"
            ],
            "layout": "IPY_MODEL_5bf39f0e1e3942d28983bc27103cf180"
          }
        },
        "6fd0e3fc04214c668c9676325d99eb1f": {
          "model_module": "@jupyter-widgets/controls",
          "model_name": "HTMLModel",
          "model_module_version": "1.5.0",
          "state": {
            "_dom_classes": [],
            "_model_module": "@jupyter-widgets/controls",
            "_model_module_version": "1.5.0",
            "_model_name": "HTMLModel",
            "_view_count": null,
            "_view_module": "@jupyter-widgets/controls",
            "_view_module_version": "1.5.0",
            "_view_name": "HTMLView",
            "description": "",
            "description_tooltip": null,
            "layout": "IPY_MODEL_ad59513aed47474e8c3c370ac9d0d010",
            "placeholder": "​",
            "style": "IPY_MODEL_141862a78d82467a9ee6b5652278e225",
            "value": "Job ID e4a99bd4-8302-499a-b369-c97d7ff99d37 successfully executed: 100%"
          }
        },
        "8544601470934b2ba8042cadbd8d8484": {
          "model_module": "@jupyter-widgets/controls",
          "model_name": "FloatProgressModel",
          "model_module_version": "1.5.0",
          "state": {
            "_dom_classes": [],
            "_model_module": "@jupyter-widgets/controls",
            "_model_module_version": "1.5.0",
            "_model_name": "FloatProgressModel",
            "_view_count": null,
            "_view_module": "@jupyter-widgets/controls",
            "_view_module_version": "1.5.0",
            "_view_name": "ProgressView",
            "bar_style": "success",
            "description": "",
            "description_tooltip": null,
            "layout": "IPY_MODEL_934781d38bb34c06bb9286c531db0542",
            "max": 1,
            "min": 0,
            "orientation": "horizontal",
            "style": "IPY_MODEL_bf2f2a566d644d5ea213d9e16cce1e0c",
            "value": 1
          }
        },
        "767b925a07324a2c85f44579cd6d2a4e": {
          "model_module": "@jupyter-widgets/controls",
          "model_name": "HTMLModel",
          "model_module_version": "1.5.0",
          "state": {
            "_dom_classes": [],
            "_model_module": "@jupyter-widgets/controls",
            "_model_module_version": "1.5.0",
            "_model_name": "HTMLModel",
            "_view_count": null,
            "_view_module": "@jupyter-widgets/controls",
            "_view_module_version": "1.5.0",
            "_view_name": "HTMLView",
            "description": "",
            "description_tooltip": null,
            "layout": "IPY_MODEL_d39e26b4e1f4485eac3e0b5334e58af4",
            "placeholder": "​",
            "style": "IPY_MODEL_08ca78aa2a6c4a11897a53a068e9c877",
            "value": ""
          }
        },
        "5bf39f0e1e3942d28983bc27103cf180": {
          "model_module": "@jupyter-widgets/base",
          "model_name": "LayoutModel",
          "model_module_version": "1.2.0",
          "state": {
            "_model_module": "@jupyter-widgets/base",
            "_model_module_version": "1.2.0",
            "_model_name": "LayoutModel",
            "_view_count": null,
            "_view_module": "@jupyter-widgets/base",
            "_view_module_version": "1.2.0",
            "_view_name": "LayoutView",
            "align_content": null,
            "align_items": null,
            "align_self": null,
            "border": null,
            "bottom": null,
            "display": null,
            "flex": null,
            "flex_flow": null,
            "grid_area": null,
            "grid_auto_columns": null,
            "grid_auto_flow": null,
            "grid_auto_rows": null,
            "grid_column": null,
            "grid_gap": null,
            "grid_row": null,
            "grid_template_areas": null,
            "grid_template_columns": null,
            "grid_template_rows": null,
            "height": null,
            "justify_content": null,
            "justify_items": null,
            "left": null,
            "margin": null,
            "max_height": null,
            "max_width": null,
            "min_height": null,
            "min_width": null,
            "object_fit": null,
            "object_position": null,
            "order": null,
            "overflow": null,
            "overflow_x": null,
            "overflow_y": null,
            "padding": null,
            "right": null,
            "top": null,
            "visibility": null,
            "width": null
          }
        },
        "ad59513aed47474e8c3c370ac9d0d010": {
          "model_module": "@jupyter-widgets/base",
          "model_name": "LayoutModel",
          "model_module_version": "1.2.0",
          "state": {
            "_model_module": "@jupyter-widgets/base",
            "_model_module_version": "1.2.0",
            "_model_name": "LayoutModel",
            "_view_count": null,
            "_view_module": "@jupyter-widgets/base",
            "_view_module_version": "1.2.0",
            "_view_name": "LayoutView",
            "align_content": null,
            "align_items": null,
            "align_self": null,
            "border": null,
            "bottom": null,
            "display": null,
            "flex": null,
            "flex_flow": null,
            "grid_area": null,
            "grid_auto_columns": null,
            "grid_auto_flow": null,
            "grid_auto_rows": null,
            "grid_column": null,
            "grid_gap": null,
            "grid_row": null,
            "grid_template_areas": null,
            "grid_template_columns": null,
            "grid_template_rows": null,
            "height": null,
            "justify_content": null,
            "justify_items": null,
            "left": null,
            "margin": null,
            "max_height": null,
            "max_width": null,
            "min_height": null,
            "min_width": null,
            "object_fit": null,
            "object_position": null,
            "order": null,
            "overflow": null,
            "overflow_x": null,
            "overflow_y": null,
            "padding": null,
            "right": null,
            "top": null,
            "visibility": null,
            "width": null
          }
        },
        "141862a78d82467a9ee6b5652278e225": {
          "model_module": "@jupyter-widgets/controls",
          "model_name": "DescriptionStyleModel",
          "model_module_version": "1.5.0",
          "state": {
            "_model_module": "@jupyter-widgets/controls",
            "_model_module_version": "1.5.0",
            "_model_name": "DescriptionStyleModel",
            "_view_count": null,
            "_view_module": "@jupyter-widgets/base",
            "_view_module_version": "1.2.0",
            "_view_name": "StyleView",
            "description_width": ""
          }
        },
        "934781d38bb34c06bb9286c531db0542": {
          "model_module": "@jupyter-widgets/base",
          "model_name": "LayoutModel",
          "model_module_version": "1.2.0",
          "state": {
            "_model_module": "@jupyter-widgets/base",
            "_model_module_version": "1.2.0",
            "_model_name": "LayoutModel",
            "_view_count": null,
            "_view_module": "@jupyter-widgets/base",
            "_view_module_version": "1.2.0",
            "_view_name": "LayoutView",
            "align_content": null,
            "align_items": null,
            "align_self": null,
            "border": null,
            "bottom": null,
            "display": null,
            "flex": null,
            "flex_flow": null,
            "grid_area": null,
            "grid_auto_columns": null,
            "grid_auto_flow": null,
            "grid_auto_rows": null,
            "grid_column": null,
            "grid_gap": null,
            "grid_row": null,
            "grid_template_areas": null,
            "grid_template_columns": null,
            "grid_template_rows": null,
            "height": null,
            "justify_content": null,
            "justify_items": null,
            "left": null,
            "margin": null,
            "max_height": null,
            "max_width": null,
            "min_height": null,
            "min_width": null,
            "object_fit": null,
            "object_position": null,
            "order": null,
            "overflow": null,
            "overflow_x": null,
            "overflow_y": null,
            "padding": null,
            "right": null,
            "top": null,
            "visibility": null,
            "width": null
          }
        },
        "bf2f2a566d644d5ea213d9e16cce1e0c": {
          "model_module": "@jupyter-widgets/controls",
          "model_name": "ProgressStyleModel",
          "model_module_version": "1.5.0",
          "state": {
            "_model_module": "@jupyter-widgets/controls",
            "_model_module_version": "1.5.0",
            "_model_name": "ProgressStyleModel",
            "_view_count": null,
            "_view_module": "@jupyter-widgets/base",
            "_view_module_version": "1.2.0",
            "_view_name": "StyleView",
            "bar_color": null,
            "description_width": ""
          }
        },
        "d39e26b4e1f4485eac3e0b5334e58af4": {
          "model_module": "@jupyter-widgets/base",
          "model_name": "LayoutModel",
          "model_module_version": "1.2.0",
          "state": {
            "_model_module": "@jupyter-widgets/base",
            "_model_module_version": "1.2.0",
            "_model_name": "LayoutModel",
            "_view_count": null,
            "_view_module": "@jupyter-widgets/base",
            "_view_module_version": "1.2.0",
            "_view_name": "LayoutView",
            "align_content": null,
            "align_items": null,
            "align_self": null,
            "border": null,
            "bottom": null,
            "display": null,
            "flex": null,
            "flex_flow": null,
            "grid_area": null,
            "grid_auto_columns": null,
            "grid_auto_flow": null,
            "grid_auto_rows": null,
            "grid_column": null,
            "grid_gap": null,
            "grid_row": null,
            "grid_template_areas": null,
            "grid_template_columns": null,
            "grid_template_rows": null,
            "height": null,
            "justify_content": null,
            "justify_items": null,
            "left": null,
            "margin": null,
            "max_height": null,
            "max_width": null,
            "min_height": null,
            "min_width": null,
            "object_fit": null,
            "object_position": null,
            "order": null,
            "overflow": null,
            "overflow_x": null,
            "overflow_y": null,
            "padding": null,
            "right": null,
            "top": null,
            "visibility": null,
            "width": null
          }
        },
        "08ca78aa2a6c4a11897a53a068e9c877": {
          "model_module": "@jupyter-widgets/controls",
          "model_name": "DescriptionStyleModel",
          "model_module_version": "1.5.0",
          "state": {
            "_model_module": "@jupyter-widgets/controls",
            "_model_module_version": "1.5.0",
            "_model_name": "DescriptionStyleModel",
            "_view_count": null,
            "_view_module": "@jupyter-widgets/base",
            "_view_module_version": "1.2.0",
            "_view_name": "StyleView",
            "description_width": ""
          }
        },
        "5a819979eb2c4ca9b6f841a2d7317349": {
          "model_module": "@jupyter-widgets/controls",
          "model_name": "HBoxModel",
          "model_module_version": "1.5.0",
          "state": {
            "_dom_classes": [],
            "_model_module": "@jupyter-widgets/controls",
            "_model_module_version": "1.5.0",
            "_model_name": "HBoxModel",
            "_view_count": null,
            "_view_module": "@jupyter-widgets/controls",
            "_view_module_version": "1.5.0",
            "_view_name": "HBoxView",
            "box_style": "",
            "children": [
              "IPY_MODEL_42aaca6d31244bc1a3e699ff1b2d1d40",
              "IPY_MODEL_2c149a92c31041159e8ffa5b45e83d0d",
              "IPY_MODEL_4221cc7602e84d84b945539e63960779"
            ],
            "layout": "IPY_MODEL_6d0a650de5814b82b6a7b2a1739564e1"
          }
        },
        "42aaca6d31244bc1a3e699ff1b2d1d40": {
          "model_module": "@jupyter-widgets/controls",
          "model_name": "HTMLModel",
          "model_module_version": "1.5.0",
          "state": {
            "_dom_classes": [],
            "_model_module": "@jupyter-widgets/controls",
            "_model_module_version": "1.5.0",
            "_model_name": "HTMLModel",
            "_view_count": null,
            "_view_module": "@jupyter-widgets/controls",
            "_view_module_version": "1.5.0",
            "_view_name": "HTMLView",
            "description": "",
            "description_tooltip": null,
            "layout": "IPY_MODEL_1202a6c34deb48e2b61c60171dc48142",
            "placeholder": "​",
            "style": "IPY_MODEL_ca6b0174e2f64c1dbeb391b5addd43ed",
            "value": "Downloading: 100%"
          }
        },
        "2c149a92c31041159e8ffa5b45e83d0d": {
          "model_module": "@jupyter-widgets/controls",
          "model_name": "FloatProgressModel",
          "model_module_version": "1.5.0",
          "state": {
            "_dom_classes": [],
            "_model_module": "@jupyter-widgets/controls",
            "_model_module_version": "1.5.0",
            "_model_name": "FloatProgressModel",
            "_view_count": null,
            "_view_module": "@jupyter-widgets/controls",
            "_view_module_version": "1.5.0",
            "_view_name": "ProgressView",
            "bar_style": "success",
            "description": "",
            "description_tooltip": null,
            "layout": "IPY_MODEL_be0b495b0e67490caa7c8b9a24078085",
            "max": 19847676,
            "min": 0,
            "orientation": "horizontal",
            "style": "IPY_MODEL_94d78d3bbb774e2ebd41bcd2ae8eed5c",
            "value": 19847676
          }
        },
        "4221cc7602e84d84b945539e63960779": {
          "model_module": "@jupyter-widgets/controls",
          "model_name": "HTMLModel",
          "model_module_version": "1.5.0",
          "state": {
            "_dom_classes": [],
            "_model_module": "@jupyter-widgets/controls",
            "_model_module_version": "1.5.0",
            "_model_name": "HTMLModel",
            "_view_count": null,
            "_view_module": "@jupyter-widgets/controls",
            "_view_module_version": "1.5.0",
            "_view_name": "HTMLView",
            "description": "",
            "description_tooltip": null,
            "layout": "IPY_MODEL_28245289d5754e7f81e347969436f3c8",
            "placeholder": "​",
            "style": "IPY_MODEL_6b652bfa7ca144e5b6fa6003e5b9eead",
            "value": ""
          }
        },
        "6d0a650de5814b82b6a7b2a1739564e1": {
          "model_module": "@jupyter-widgets/base",
          "model_name": "LayoutModel",
          "model_module_version": "1.2.0",
          "state": {
            "_model_module": "@jupyter-widgets/base",
            "_model_module_version": "1.2.0",
            "_model_name": "LayoutModel",
            "_view_count": null,
            "_view_module": "@jupyter-widgets/base",
            "_view_module_version": "1.2.0",
            "_view_name": "LayoutView",
            "align_content": null,
            "align_items": null,
            "align_self": null,
            "border": null,
            "bottom": null,
            "display": null,
            "flex": null,
            "flex_flow": null,
            "grid_area": null,
            "grid_auto_columns": null,
            "grid_auto_flow": null,
            "grid_auto_rows": null,
            "grid_column": null,
            "grid_gap": null,
            "grid_row": null,
            "grid_template_areas": null,
            "grid_template_columns": null,
            "grid_template_rows": null,
            "height": null,
            "justify_content": null,
            "justify_items": null,
            "left": null,
            "margin": null,
            "max_height": null,
            "max_width": null,
            "min_height": null,
            "min_width": null,
            "object_fit": null,
            "object_position": null,
            "order": null,
            "overflow": null,
            "overflow_x": null,
            "overflow_y": null,
            "padding": null,
            "right": null,
            "top": null,
            "visibility": null,
            "width": null
          }
        },
        "1202a6c34deb48e2b61c60171dc48142": {
          "model_module": "@jupyter-widgets/base",
          "model_name": "LayoutModel",
          "model_module_version": "1.2.0",
          "state": {
            "_model_module": "@jupyter-widgets/base",
            "_model_module_version": "1.2.0",
            "_model_name": "LayoutModel",
            "_view_count": null,
            "_view_module": "@jupyter-widgets/base",
            "_view_module_version": "1.2.0",
            "_view_name": "LayoutView",
            "align_content": null,
            "align_items": null,
            "align_self": null,
            "border": null,
            "bottom": null,
            "display": null,
            "flex": null,
            "flex_flow": null,
            "grid_area": null,
            "grid_auto_columns": null,
            "grid_auto_flow": null,
            "grid_auto_rows": null,
            "grid_column": null,
            "grid_gap": null,
            "grid_row": null,
            "grid_template_areas": null,
            "grid_template_columns": null,
            "grid_template_rows": null,
            "height": null,
            "justify_content": null,
            "justify_items": null,
            "left": null,
            "margin": null,
            "max_height": null,
            "max_width": null,
            "min_height": null,
            "min_width": null,
            "object_fit": null,
            "object_position": null,
            "order": null,
            "overflow": null,
            "overflow_x": null,
            "overflow_y": null,
            "padding": null,
            "right": null,
            "top": null,
            "visibility": null,
            "width": null
          }
        },
        "ca6b0174e2f64c1dbeb391b5addd43ed": {
          "model_module": "@jupyter-widgets/controls",
          "model_name": "DescriptionStyleModel",
          "model_module_version": "1.5.0",
          "state": {
            "_model_module": "@jupyter-widgets/controls",
            "_model_module_version": "1.5.0",
            "_model_name": "DescriptionStyleModel",
            "_view_count": null,
            "_view_module": "@jupyter-widgets/base",
            "_view_module_version": "1.2.0",
            "_view_name": "StyleView",
            "description_width": ""
          }
        },
        "be0b495b0e67490caa7c8b9a24078085": {
          "model_module": "@jupyter-widgets/base",
          "model_name": "LayoutModel",
          "model_module_version": "1.2.0",
          "state": {
            "_model_module": "@jupyter-widgets/base",
            "_model_module_version": "1.2.0",
            "_model_name": "LayoutModel",
            "_view_count": null,
            "_view_module": "@jupyter-widgets/base",
            "_view_module_version": "1.2.0",
            "_view_name": "LayoutView",
            "align_content": null,
            "align_items": null,
            "align_self": null,
            "border": null,
            "bottom": null,
            "display": null,
            "flex": null,
            "flex_flow": null,
            "grid_area": null,
            "grid_auto_columns": null,
            "grid_auto_flow": null,
            "grid_auto_rows": null,
            "grid_column": null,
            "grid_gap": null,
            "grid_row": null,
            "grid_template_areas": null,
            "grid_template_columns": null,
            "grid_template_rows": null,
            "height": null,
            "justify_content": null,
            "justify_items": null,
            "left": null,
            "margin": null,
            "max_height": null,
            "max_width": null,
            "min_height": null,
            "min_width": null,
            "object_fit": null,
            "object_position": null,
            "order": null,
            "overflow": null,
            "overflow_x": null,
            "overflow_y": null,
            "padding": null,
            "right": null,
            "top": null,
            "visibility": null,
            "width": null
          }
        },
        "94d78d3bbb774e2ebd41bcd2ae8eed5c": {
          "model_module": "@jupyter-widgets/controls",
          "model_name": "ProgressStyleModel",
          "model_module_version": "1.5.0",
          "state": {
            "_model_module": "@jupyter-widgets/controls",
            "_model_module_version": "1.5.0",
            "_model_name": "ProgressStyleModel",
            "_view_count": null,
            "_view_module": "@jupyter-widgets/base",
            "_view_module_version": "1.2.0",
            "_view_name": "StyleView",
            "bar_color": null,
            "description_width": ""
          }
        },
        "28245289d5754e7f81e347969436f3c8": {
          "model_module": "@jupyter-widgets/base",
          "model_name": "LayoutModel",
          "model_module_version": "1.2.0",
          "state": {
            "_model_module": "@jupyter-widgets/base",
            "_model_module_version": "1.2.0",
            "_model_name": "LayoutModel",
            "_view_count": null,
            "_view_module": "@jupyter-widgets/base",
            "_view_module_version": "1.2.0",
            "_view_name": "LayoutView",
            "align_content": null,
            "align_items": null,
            "align_self": null,
            "border": null,
            "bottom": null,
            "display": null,
            "flex": null,
            "flex_flow": null,
            "grid_area": null,
            "grid_auto_columns": null,
            "grid_auto_flow": null,
            "grid_auto_rows": null,
            "grid_column": null,
            "grid_gap": null,
            "grid_row": null,
            "grid_template_areas": null,
            "grid_template_columns": null,
            "grid_template_rows": null,
            "height": null,
            "justify_content": null,
            "justify_items": null,
            "left": null,
            "margin": null,
            "max_height": null,
            "max_width": null,
            "min_height": null,
            "min_width": null,
            "object_fit": null,
            "object_position": null,
            "order": null,
            "overflow": null,
            "overflow_x": null,
            "overflow_y": null,
            "padding": null,
            "right": null,
            "top": null,
            "visibility": null,
            "width": null
          }
        },
        "6b652bfa7ca144e5b6fa6003e5b9eead": {
          "model_module": "@jupyter-widgets/controls",
          "model_name": "DescriptionStyleModel",
          "model_module_version": "1.5.0",
          "state": {
            "_model_module": "@jupyter-widgets/controls",
            "_model_module_version": "1.5.0",
            "_model_name": "DescriptionStyleModel",
            "_view_count": null,
            "_view_module": "@jupyter-widgets/base",
            "_view_module_version": "1.2.0",
            "_view_name": "StyleView",
            "description_width": ""
          }
        }
      }
    }
  },
  "cells": [
    {
      "cell_type": "code",
      "source": [
        "# @title Example 1: Query a table with SQL and magic commands\n",
        "# Running this code will query a table in BigQuery and download\n",
        "# the results to a Pandas DataFrame named `results`.\n",
        "# Learn more here: https://cloud.google.com/bigquery/docs/visualize-jupyter\n",
        "\n",
        "%%bigquery results --project de-mage\n",
        "SELECT * FROM `de-mage.None.dev_test_config_load_from_gcs_v1` #this table name was set based on the table you chose to query"
      ],
      "metadata": {
        "id": "7apwrP5jxUGW",
        "colab": {
          "base_uri": "https://localhost:8080/",
          "height": 81,
          "referenced_widgets": [
            "406dde676b704ad88314470903ec5e19",
            "6fd0e3fc04214c668c9676325d99eb1f",
            "8544601470934b2ba8042cadbd8d8484",
            "767b925a07324a2c85f44579cd6d2a4e",
            "5bf39f0e1e3942d28983bc27103cf180",
            "ad59513aed47474e8c3c370ac9d0d010",
            "141862a78d82467a9ee6b5652278e225",
            "934781d38bb34c06bb9286c531db0542",
            "bf2f2a566d644d5ea213d9e16cce1e0c",
            "d39e26b4e1f4485eac3e0b5334e58af4",
            "08ca78aa2a6c4a11897a53a068e9c877",
            "5a819979eb2c4ca9b6f841a2d7317349",
            "42aaca6d31244bc1a3e699ff1b2d1d40",
            "2c149a92c31041159e8ffa5b45e83d0d",
            "4221cc7602e84d84b945539e63960779",
            "6d0a650de5814b82b6a7b2a1739564e1",
            "1202a6c34deb48e2b61c60171dc48142",
            "ca6b0174e2f64c1dbeb391b5addd43ed",
            "be0b495b0e67490caa7c8b9a24078085",
            "94d78d3bbb774e2ebd41bcd2ae8eed5c",
            "28245289d5754e7f81e347969436f3c8",
            "6b652bfa7ca144e5b6fa6003e5b9eead"
          ]
        },
        "executionInfo": {
          "status": "ok",
          "timestamp": 1713210739515,
          "user_tz": -120,
          "elapsed": 32344,
          "user": {
            "displayName": "",
            "userId": ""
          }
        },
        "outputId": "90b94f6b-10ab-4279-ad18-c3f84e22c87b"
      },
      "execution_count": 1,
      "outputs": [
        {
          "output_type": "display_data",
          "data": {
            "text/plain": [
              "Query is running:   0%|          |"
            ],
            "application/vnd.jupyter.widget-view+json": {
              "version_major": 2,
              "version_minor": 0,
              "model_id": "406dde676b704ad88314470903ec5e19"
            }
          },
          "metadata": {}
        },
        {
          "output_type": "display_data",
          "data": {
            "text/plain": [
              "Downloading:   0%|          |"
            ],
            "application/vnd.jupyter.widget-view+json": {
              "version_major": 2,
              "version_minor": 0,
              "model_id": "5a819979eb2c4ca9b6f841a2d7317349"
            }
          },
          "metadata": {}
        }
      ]
    },
    {
      "cell_type": "code",
      "source": [
        "# You can view the resulting Pandas DataFrame and work with using the Pandas library.\n",
        "# https://pandas.pydata.org/docs/getting_started/index.html#getting-started\n",
        "results"
      ],
      "metadata": {
        "id": "itFJzBFNr72l",
        "colab": {
          "base_uri": "https://localhost:8080/",
          "height": 617
        },
        "executionInfo": {
          "status": "ok",
          "timestamp": 1713210758430,
          "user_tz": -120,
          "elapsed": 15867,
          "user": {
            "displayName": "",
            "userId": ""
          }
        },
        "outputId": "1341012b-139f-4526-f4d0-a3654bdcc21f"
      },
      "execution_count": 2,
      "outputs": [
        {
          "output_type": "execute_result",
          "data": {
            "text/plain": [
              "         hvfhs_license_num dispatching_base_num originating_base_num  \\\n",
              "0                   HV0003               B03404               B03404   \n",
              "1                   HV0003               B03404               B03404   \n",
              "2                   HV0003               B03404               B03404   \n",
              "3                   HV0003               B03404               B03404   \n",
              "4                   HV0003               B03404               B03404   \n",
              "...                    ...                  ...                  ...   \n",
              "19847671            HV0003               B03404               B03404   \n",
              "19847672            HV0003               B03404               B03404   \n",
              "19847673            HV0003               B03404               B03404   \n",
              "19847674            HV0003               B03404               B03404   \n",
              "19847675            HV0003               B03404               B03404   \n",
              "\n",
              "            request_datetime   on_scene_datetime     pickup_datetime  \\\n",
              "0        2023-05-17 23:44:12 2023-05-17 23:46:49 2023-05-17 23:47:42   \n",
              "1        2023-05-29 23:22:38 2023-05-29 23:29:09 2023-05-29 23:29:09   \n",
              "2        2023-05-13 20:51:20 2023-05-13 20:55:28 2023-05-13 20:55:42   \n",
              "3        2023-05-22 13:27:00 2023-05-22 13:32:17 2023-05-22 13:32:41   \n",
              "4        2023-05-14 16:21:11 2023-05-14 16:26:00 2023-05-14 16:27:16   \n",
              "...                      ...                 ...                 ...   \n",
              "19847671 2023-05-10 21:53:46 2023-05-10 21:59:19 2023-05-10 21:59:30   \n",
              "19847672 2023-05-01 05:29:27 2023-05-01 05:33:18 2023-05-01 05:33:32   \n",
              "19847673 2023-05-12 14:53:02 2023-05-12 15:00:26 2023-05-12 15:01:56   \n",
              "19847674 2023-05-27 09:06:30 2023-05-27 09:09:33 2023-05-27 09:10:18   \n",
              "19847675 2023-05-26 10:59:45 2023-05-26 11:00:43 2023-05-26 11:02:44   \n",
              "\n",
              "            dropoff_datetime  PULocationID  DOLocationID  trip_miles  ...  \\\n",
              "0        2023-05-17 23:58:45            76            36        2.28  ...   \n",
              "1        2023-05-29 23:50:13           138           198        6.80  ...   \n",
              "2        2023-05-13 21:58:22            86           169       25.53  ...   \n",
              "3        2023-05-22 13:47:35           205           130        3.08  ...   \n",
              "4        2023-05-14 16:38:38           170           114        1.90  ...   \n",
              "...                      ...           ...           ...         ...  ...   \n",
              "19847671 2023-05-10 22:07:49            81            51        1.22  ...   \n",
              "19847672 2023-05-01 05:44:16           152           244        1.87  ...   \n",
              "19847673 2023-05-12 15:32:42            88           148        3.26  ...   \n",
              "19847674 2023-05-27 09:24:10            42           138        8.08  ...   \n",
              "19847675 2023-05-26 11:47:46           137           132       16.51  ...   \n",
              "\n",
              "          sales_tax  congestion_surcharge  airport_fee  tips  driver_pay  \\\n",
              "0              1.03                  0.00          0.0  0.00        9.23   \n",
              "1              4.34                  0.00          2.5  0.00       37.96   \n",
              "2              7.77                  0.00          0.0  0.00       79.67   \n",
              "3              1.50                  0.00          0.0  0.00       12.64   \n",
              "4              2.57                  2.75          0.0  0.00       16.62   \n",
              "...             ...                   ...          ...   ...         ...   \n",
              "19847671       0.71                  0.00          0.0  0.00        6.44   \n",
              "19847672       1.02                  0.00          0.0  0.00       14.51   \n",
              "19847673       2.16                  2.75          0.0  4.09       23.63   \n",
              "19847674       3.23                  0.00          2.5  0.00       18.44   \n",
              "19847675       6.08                  2.75          2.5  0.00       47.09   \n",
              "\n",
              "          shared_request_flag  shared_match_flag  access_a_ride_flag  \\\n",
              "0                           N                  N                       \n",
              "1                           N                  N                       \n",
              "2                           N                  N                       \n",
              "3                           N                  N                       \n",
              "4                           N                  N                       \n",
              "...                       ...                ...                 ...   \n",
              "19847671                    N                  N                       \n",
              "19847672                    N                  N                       \n",
              "19847673                    N                  N                       \n",
              "19847674                    N                  N                       \n",
              "19847675                    N                  N                       \n",
              "\n",
              "          wav_request_flag wav_match_flag  \n",
              "0                        N              N  \n",
              "1                        N              N  \n",
              "2                        N              Y  \n",
              "3                        N              N  \n",
              "4                        N              N  \n",
              "...                    ...            ...  \n",
              "19847671                 N              N  \n",
              "19847672                 N              N  \n",
              "19847673                 N              N  \n",
              "19847674                 N              N  \n",
              "19847675                 N              N  \n",
              "\n",
              "[19847676 rows x 24 columns]"
            ],
            "text/html": [
              "\n",
              "  <div id=\"df-d8cad36a-7621-4419-83cf-18c520372e5f\" class=\"colab-df-container\">\n",
              "    <div>\n",
              "<style scoped>\n",
              "    .dataframe tbody tr th:only-of-type {\n",
              "        vertical-align: middle;\n",
              "    }\n",
              "\n",
              "    .dataframe tbody tr th {\n",
              "        vertical-align: top;\n",
              "    }\n",
              "\n",
              "    .dataframe thead th {\n",
              "        text-align: right;\n",
              "    }\n",
              "</style>\n",
              "<table border=\"1\" class=\"dataframe\">\n",
              "  <thead>\n",
              "    <tr style=\"text-align: right;\">\n",
              "      <th></th>\n",
              "      <th>hvfhs_license_num</th>\n",
              "      <th>dispatching_base_num</th>\n",
              "      <th>originating_base_num</th>\n",
              "      <th>request_datetime</th>\n",
              "      <th>on_scene_datetime</th>\n",
              "      <th>pickup_datetime</th>\n",
              "      <th>dropoff_datetime</th>\n",
              "      <th>PULocationID</th>\n",
              "      <th>DOLocationID</th>\n",
              "      <th>trip_miles</th>\n",
              "      <th>...</th>\n",
              "      <th>sales_tax</th>\n",
              "      <th>congestion_surcharge</th>\n",
              "      <th>airport_fee</th>\n",
              "      <th>tips</th>\n",
              "      <th>driver_pay</th>\n",
              "      <th>shared_request_flag</th>\n",
              "      <th>shared_match_flag</th>\n",
              "      <th>access_a_ride_flag</th>\n",
              "      <th>wav_request_flag</th>\n",
              "      <th>wav_match_flag</th>\n",
              "    </tr>\n",
              "  </thead>\n",
              "  <tbody>\n",
              "    <tr>\n",
              "      <th>0</th>\n",
              "      <td>HV0003</td>\n",
              "      <td>B03404</td>\n",
              "      <td>B03404</td>\n",
              "      <td>2023-05-17 23:44:12</td>\n",
              "      <td>2023-05-17 23:46:49</td>\n",
              "      <td>2023-05-17 23:47:42</td>\n",
              "      <td>2023-05-17 23:58:45</td>\n",
              "      <td>76</td>\n",
              "      <td>36</td>\n",
              "      <td>2.28</td>\n",
              "      <td>...</td>\n",
              "      <td>1.03</td>\n",
              "      <td>0.00</td>\n",
              "      <td>0.0</td>\n",
              "      <td>0.00</td>\n",
              "      <td>9.23</td>\n",
              "      <td>N</td>\n",
              "      <td>N</td>\n",
              "      <td></td>\n",
              "      <td>N</td>\n",
              "      <td>N</td>\n",
              "    </tr>\n",
              "    <tr>\n",
              "      <th>1</th>\n",
              "      <td>HV0003</td>\n",
              "      <td>B03404</td>\n",
              "      <td>B03404</td>\n",
              "      <td>2023-05-29 23:22:38</td>\n",
              "      <td>2023-05-29 23:29:09</td>\n",
              "      <td>2023-05-29 23:29:09</td>\n",
              "      <td>2023-05-29 23:50:13</td>\n",
              "      <td>138</td>\n",
              "      <td>198</td>\n",
              "      <td>6.80</td>\n",
              "      <td>...</td>\n",
              "      <td>4.34</td>\n",
              "      <td>0.00</td>\n",
              "      <td>2.5</td>\n",
              "      <td>0.00</td>\n",
              "      <td>37.96</td>\n",
              "      <td>N</td>\n",
              "      <td>N</td>\n",
              "      <td></td>\n",
              "      <td>N</td>\n",
              "      <td>N</td>\n",
              "    </tr>\n",
              "    <tr>\n",
              "      <th>2</th>\n",
              "      <td>HV0003</td>\n",
              "      <td>B03404</td>\n",
              "      <td>B03404</td>\n",
              "      <td>2023-05-13 20:51:20</td>\n",
              "      <td>2023-05-13 20:55:28</td>\n",
              "      <td>2023-05-13 20:55:42</td>\n",
              "      <td>2023-05-13 21:58:22</td>\n",
              "      <td>86</td>\n",
              "      <td>169</td>\n",
              "      <td>25.53</td>\n",
              "      <td>...</td>\n",
              "      <td>7.77</td>\n",
              "      <td>0.00</td>\n",
              "      <td>0.0</td>\n",
              "      <td>0.00</td>\n",
              "      <td>79.67</td>\n",
              "      <td>N</td>\n",
              "      <td>N</td>\n",
              "      <td></td>\n",
              "      <td>N</td>\n",
              "      <td>Y</td>\n",
              "    </tr>\n",
              "    <tr>\n",
              "      <th>3</th>\n",
              "      <td>HV0003</td>\n",
              "      <td>B03404</td>\n",
              "      <td>B03404</td>\n",
              "      <td>2023-05-22 13:27:00</td>\n",
              "      <td>2023-05-22 13:32:17</td>\n",
              "      <td>2023-05-22 13:32:41</td>\n",
              "      <td>2023-05-22 13:47:35</td>\n",
              "      <td>205</td>\n",
              "      <td>130</td>\n",
              "      <td>3.08</td>\n",
              "      <td>...</td>\n",
              "      <td>1.50</td>\n",
              "      <td>0.00</td>\n",
              "      <td>0.0</td>\n",
              "      <td>0.00</td>\n",
              "      <td>12.64</td>\n",
              "      <td>N</td>\n",
              "      <td>N</td>\n",
              "      <td></td>\n",
              "      <td>N</td>\n",
              "      <td>N</td>\n",
              "    </tr>\n",
              "    <tr>\n",
              "      <th>4</th>\n",
              "      <td>HV0003</td>\n",
              "      <td>B03404</td>\n",
              "      <td>B03404</td>\n",
              "      <td>2023-05-14 16:21:11</td>\n",
              "      <td>2023-05-14 16:26:00</td>\n",
              "      <td>2023-05-14 16:27:16</td>\n",
              "      <td>2023-05-14 16:38:38</td>\n",
              "      <td>170</td>\n",
              "      <td>114</td>\n",
              "      <td>1.90</td>\n",
              "      <td>...</td>\n",
              "      <td>2.57</td>\n",
              "      <td>2.75</td>\n",
              "      <td>0.0</td>\n",
              "      <td>0.00</td>\n",
              "      <td>16.62</td>\n",
              "      <td>N</td>\n",
              "      <td>N</td>\n",
              "      <td></td>\n",
              "      <td>N</td>\n",
              "      <td>N</td>\n",
              "    </tr>\n",
              "    <tr>\n",
              "      <th>...</th>\n",
              "      <td>...</td>\n",
              "      <td>...</td>\n",
              "      <td>...</td>\n",
              "      <td>...</td>\n",
              "      <td>...</td>\n",
              "      <td>...</td>\n",
              "      <td>...</td>\n",
              "      <td>...</td>\n",
              "      <td>...</td>\n",
              "      <td>...</td>\n",
              "      <td>...</td>\n",
              "      <td>...</td>\n",
              "      <td>...</td>\n",
              "      <td>...</td>\n",
              "      <td>...</td>\n",
              "      <td>...</td>\n",
              "      <td>...</td>\n",
              "      <td>...</td>\n",
              "      <td>...</td>\n",
              "      <td>...</td>\n",
              "      <td>...</td>\n",
              "    </tr>\n",
              "    <tr>\n",
              "      <th>19847671</th>\n",
              "      <td>HV0003</td>\n",
              "      <td>B03404</td>\n",
              "      <td>B03404</td>\n",
              "      <td>2023-05-10 21:53:46</td>\n",
              "      <td>2023-05-10 21:59:19</td>\n",
              "      <td>2023-05-10 21:59:30</td>\n",
              "      <td>2023-05-10 22:07:49</td>\n",
              "      <td>81</td>\n",
              "      <td>51</td>\n",
              "      <td>1.22</td>\n",
              "      <td>...</td>\n",
              "      <td>0.71</td>\n",
              "      <td>0.00</td>\n",
              "      <td>0.0</td>\n",
              "      <td>0.00</td>\n",
              "      <td>6.44</td>\n",
              "      <td>N</td>\n",
              "      <td>N</td>\n",
              "      <td></td>\n",
              "      <td>N</td>\n",
              "      <td>N</td>\n",
              "    </tr>\n",
              "    <tr>\n",
              "      <th>19847672</th>\n",
              "      <td>HV0003</td>\n",
              "      <td>B03404</td>\n",
              "      <td>B03404</td>\n",
              "      <td>2023-05-01 05:29:27</td>\n",
              "      <td>2023-05-01 05:33:18</td>\n",
              "      <td>2023-05-01 05:33:32</td>\n",
              "      <td>2023-05-01 05:44:16</td>\n",
              "      <td>152</td>\n",
              "      <td>244</td>\n",
              "      <td>1.87</td>\n",
              "      <td>...</td>\n",
              "      <td>1.02</td>\n",
              "      <td>0.00</td>\n",
              "      <td>0.0</td>\n",
              "      <td>0.00</td>\n",
              "      <td>14.51</td>\n",
              "      <td>N</td>\n",
              "      <td>N</td>\n",
              "      <td></td>\n",
              "      <td>N</td>\n",
              "      <td>N</td>\n",
              "    </tr>\n",
              "    <tr>\n",
              "      <th>19847673</th>\n",
              "      <td>HV0003</td>\n",
              "      <td>B03404</td>\n",
              "      <td>B03404</td>\n",
              "      <td>2023-05-12 14:53:02</td>\n",
              "      <td>2023-05-12 15:00:26</td>\n",
              "      <td>2023-05-12 15:01:56</td>\n",
              "      <td>2023-05-12 15:32:42</td>\n",
              "      <td>88</td>\n",
              "      <td>148</td>\n",
              "      <td>3.26</td>\n",
              "      <td>...</td>\n",
              "      <td>2.16</td>\n",
              "      <td>2.75</td>\n",
              "      <td>0.0</td>\n",
              "      <td>4.09</td>\n",
              "      <td>23.63</td>\n",
              "      <td>N</td>\n",
              "      <td>N</td>\n",
              "      <td></td>\n",
              "      <td>N</td>\n",
              "      <td>N</td>\n",
              "    </tr>\n",
              "    <tr>\n",
              "      <th>19847674</th>\n",
              "      <td>HV0003</td>\n",
              "      <td>B03404</td>\n",
              "      <td>B03404</td>\n",
              "      <td>2023-05-27 09:06:30</td>\n",
              "      <td>2023-05-27 09:09:33</td>\n",
              "      <td>2023-05-27 09:10:18</td>\n",
              "      <td>2023-05-27 09:24:10</td>\n",
              "      <td>42</td>\n",
              "      <td>138</td>\n",
              "      <td>8.08</td>\n",
              "      <td>...</td>\n",
              "      <td>3.23</td>\n",
              "      <td>0.00</td>\n",
              "      <td>2.5</td>\n",
              "      <td>0.00</td>\n",
              "      <td>18.44</td>\n",
              "      <td>N</td>\n",
              "      <td>N</td>\n",
              "      <td></td>\n",
              "      <td>N</td>\n",
              "      <td>N</td>\n",
              "    </tr>\n",
              "    <tr>\n",
              "      <th>19847675</th>\n",
              "      <td>HV0003</td>\n",
              "      <td>B03404</td>\n",
              "      <td>B03404</td>\n",
              "      <td>2023-05-26 10:59:45</td>\n",
              "      <td>2023-05-26 11:00:43</td>\n",
              "      <td>2023-05-26 11:02:44</td>\n",
              "      <td>2023-05-26 11:47:46</td>\n",
              "      <td>137</td>\n",
              "      <td>132</td>\n",
              "      <td>16.51</td>\n",
              "      <td>...</td>\n",
              "      <td>6.08</td>\n",
              "      <td>2.75</td>\n",
              "      <td>2.5</td>\n",
              "      <td>0.00</td>\n",
              "      <td>47.09</td>\n",
              "      <td>N</td>\n",
              "      <td>N</td>\n",
              "      <td></td>\n",
              "      <td>N</td>\n",
              "      <td>N</td>\n",
              "    </tr>\n",
              "  </tbody>\n",
              "</table>\n",
              "<p>19847676 rows × 24 columns</p>\n",
              "</div>\n",
              "    <div class=\"colab-df-buttons\">\n",
              "\n",
              "  <div class=\"colab-df-container\">\n",
              "    <button class=\"colab-df-convert\" onclick=\"convertToInteractive('df-d8cad36a-7621-4419-83cf-18c520372e5f')\"\n",
              "            title=\"Convert this dataframe to an interactive table.\"\n",
              "            style=\"display:none;\">\n",
              "\n",
              "  <svg xmlns=\"http://www.w3.org/2000/svg\" height=\"24px\" viewBox=\"0 -960 960 960\">\n",
              "    <path d=\"M120-120v-720h720v720H120Zm60-500h600v-160H180v160Zm220 220h160v-160H400v160Zm0 220h160v-160H400v160ZM180-400h160v-160H180v160Zm440 0h160v-160H620v160ZM180-180h160v-160H180v160Zm440 0h160v-160H620v160Z\"/>\n",
              "  </svg>\n",
              "    </button>\n",
              "\n",
              "  <style>\n",
              "    .colab-df-container {\n",
              "      display:flex;\n",
              "      gap: 12px;\n",
              "    }\n",
              "\n",
              "    .colab-df-convert {\n",
              "      background-color: #E8F0FE;\n",
              "      border: none;\n",
              "      border-radius: 50%;\n",
              "      cursor: pointer;\n",
              "      display: none;\n",
              "      fill: #1967D2;\n",
              "      height: 32px;\n",
              "      padding: 0 0 0 0;\n",
              "      width: 32px;\n",
              "    }\n",
              "\n",
              "    .colab-df-convert:hover {\n",
              "      background-color: #E2EBFA;\n",
              "      box-shadow: 0px 1px 2px rgba(60, 64, 67, 0.3), 0px 1px 3px 1px rgba(60, 64, 67, 0.15);\n",
              "      fill: #174EA6;\n",
              "    }\n",
              "\n",
              "    .colab-df-buttons div {\n",
              "      margin-bottom: 4px;\n",
              "    }\n",
              "\n",
              "    [theme=dark] .colab-df-convert {\n",
              "      background-color: #3B4455;\n",
              "      fill: #D2E3FC;\n",
              "    }\n",
              "\n",
              "    [theme=dark] .colab-df-convert:hover {\n",
              "      background-color: #434B5C;\n",
              "      box-shadow: 0px 1px 3px 1px rgba(0, 0, 0, 0.15);\n",
              "      filter: drop-shadow(0px 1px 2px rgba(0, 0, 0, 0.3));\n",
              "      fill: #FFFFFF;\n",
              "    }\n",
              "  </style>\n",
              "\n",
              "    <script>\n",
              "      const buttonEl =\n",
              "        document.querySelector('#df-d8cad36a-7621-4419-83cf-18c520372e5f button.colab-df-convert');\n",
              "      buttonEl.style.display =\n",
              "        google.colab.kernel.accessAllowed ? 'block' : 'none';\n",
              "\n",
              "      async function convertToInteractive(key) {\n",
              "        const element = document.querySelector('#df-d8cad36a-7621-4419-83cf-18c520372e5f');\n",
              "        const dataTable =\n",
              "          await google.colab.kernel.invokeFunction('convertToInteractive',\n",
              "                                                    [key], {});\n",
              "        if (!dataTable) return;\n",
              "\n",
              "        const docLinkHtml = 'Like what you see? Visit the ' +\n",
              "          '<a target=\"_blank\" href=https://colab.research.google.com/notebooks/data_table.ipynb>data table notebook</a>'\n",
              "          + ' to learn more about interactive tables.';\n",
              "        element.innerHTML = '';\n",
              "        dataTable['output_type'] = 'display_data';\n",
              "        await google.colab.output.renderOutput(dataTable, element);\n",
              "        const docLink = document.createElement('div');\n",
              "        docLink.innerHTML = docLinkHtml;\n",
              "        element.appendChild(docLink);\n",
              "      }\n",
              "    </script>\n",
              "  </div>\n",
              "\n",
              "\n",
              "<div id=\"df-50d05d2b-8b05-4691-841c-17abca1d4815\">\n",
              "  <button class=\"colab-df-quickchart\" onclick=\"quickchart('df-50d05d2b-8b05-4691-841c-17abca1d4815')\"\n",
              "            title=\"Suggest charts\"\n",
              "            style=\"display:none;\">\n",
              "\n",
              "<svg xmlns=\"http://www.w3.org/2000/svg\" height=\"24px\"viewBox=\"0 0 24 24\"\n",
              "     width=\"24px\">\n",
              "    <g>\n",
              "        <path d=\"M19 3H5c-1.1 0-2 .9-2 2v14c0 1.1.9 2 2 2h14c1.1 0 2-.9 2-2V5c0-1.1-.9-2-2-2zM9 17H7v-7h2v7zm4 0h-2V7h2v10zm4 0h-2v-4h2v4z\"/>\n",
              "    </g>\n",
              "</svg>\n",
              "  </button>\n",
              "\n",
              "<style>\n",
              "  .colab-df-quickchart {\n",
              "      --bg-color: #E8F0FE;\n",
              "      --fill-color: #1967D2;\n",
              "      --hover-bg-color: #E2EBFA;\n",
              "      --hover-fill-color: #174EA6;\n",
              "      --disabled-fill-color: #AAA;\n",
              "      --disabled-bg-color: #DDD;\n",
              "  }\n",
              "\n",
              "  [theme=dark] .colab-df-quickchart {\n",
              "      --bg-color: #3B4455;\n",
              "      --fill-color: #D2E3FC;\n",
              "      --hover-bg-color: #434B5C;\n",
              "      --hover-fill-color: #FFFFFF;\n",
              "      --disabled-bg-color: #3B4455;\n",
              "      --disabled-fill-color: #666;\n",
              "  }\n",
              "\n",
              "  .colab-df-quickchart {\n",
              "    background-color: var(--bg-color);\n",
              "    border: none;\n",
              "    border-radius: 50%;\n",
              "    cursor: pointer;\n",
              "    display: none;\n",
              "    fill: var(--fill-color);\n",
              "    height: 32px;\n",
              "    padding: 0;\n",
              "    width: 32px;\n",
              "  }\n",
              "\n",
              "  .colab-df-quickchart:hover {\n",
              "    background-color: var(--hover-bg-color);\n",
              "    box-shadow: 0 1px 2px rgba(60, 64, 67, 0.3), 0 1px 3px 1px rgba(60, 64, 67, 0.15);\n",
              "    fill: var(--button-hover-fill-color);\n",
              "  }\n",
              "\n",
              "  .colab-df-quickchart-complete:disabled,\n",
              "  .colab-df-quickchart-complete:disabled:hover {\n",
              "    background-color: var(--disabled-bg-color);\n",
              "    fill: var(--disabled-fill-color);\n",
              "    box-shadow: none;\n",
              "  }\n",
              "\n",
              "  .colab-df-spinner {\n",
              "    border: 2px solid var(--fill-color);\n",
              "    border-color: transparent;\n",
              "    border-bottom-color: var(--fill-color);\n",
              "    animation:\n",
              "      spin 1s steps(1) infinite;\n",
              "  }\n",
              "\n",
              "  @keyframes spin {\n",
              "    0% {\n",
              "      border-color: transparent;\n",
              "      border-bottom-color: var(--fill-color);\n",
              "      border-left-color: var(--fill-color);\n",
              "    }\n",
              "    20% {\n",
              "      border-color: transparent;\n",
              "      border-left-color: var(--fill-color);\n",
              "      border-top-color: var(--fill-color);\n",
              "    }\n",
              "    30% {\n",
              "      border-color: transparent;\n",
              "      border-left-color: var(--fill-color);\n",
              "      border-top-color: var(--fill-color);\n",
              "      border-right-color: var(--fill-color);\n",
              "    }\n",
              "    40% {\n",
              "      border-color: transparent;\n",
              "      border-right-color: var(--fill-color);\n",
              "      border-top-color: var(--fill-color);\n",
              "    }\n",
              "    60% {\n",
              "      border-color: transparent;\n",
              "      border-right-color: var(--fill-color);\n",
              "    }\n",
              "    80% {\n",
              "      border-color: transparent;\n",
              "      border-right-color: var(--fill-color);\n",
              "      border-bottom-color: var(--fill-color);\n",
              "    }\n",
              "    90% {\n",
              "      border-color: transparent;\n",
              "      border-bottom-color: var(--fill-color);\n",
              "    }\n",
              "  }\n",
              "</style>\n",
              "\n",
              "  <script>\n",
              "    async function quickchart(key) {\n",
              "      const quickchartButtonEl =\n",
              "        document.querySelector('#' + key + ' button');\n",
              "      quickchartButtonEl.disabled = true;  // To prevent multiple clicks.\n",
              "      quickchartButtonEl.classList.add('colab-df-spinner');\n",
              "      try {\n",
              "        const charts = await google.colab.kernel.invokeFunction(\n",
              "            'suggestCharts', [key], {});\n",
              "      } catch (error) {\n",
              "        console.error('Error during call to suggestCharts:', error);\n",
              "      }\n",
              "      quickchartButtonEl.classList.remove('colab-df-spinner');\n",
              "      quickchartButtonEl.classList.add('colab-df-quickchart-complete');\n",
              "    }\n",
              "    (() => {\n",
              "      let quickchartButtonEl =\n",
              "        document.querySelector('#df-50d05d2b-8b05-4691-841c-17abca1d4815 button');\n",
              "      quickchartButtonEl.style.display =\n",
              "        google.colab.kernel.accessAllowed ? 'block' : 'none';\n",
              "    })();\n",
              "  </script>\n",
              "</div>\n",
              "    </div>\n",
              "  </div>\n"
            ]
          },
          "metadata": {},
          "execution_count": 2
        }
      ]
    },
    {
      "cell_type": "code",
      "source": [
        "results.shape"
      ],
      "metadata": {
        "colab": {
          "base_uri": "https://localhost:8080/"
        },
        "id": "XlpoF0bp_8jZ",
        "executionInfo": {
          "status": "ok",
          "timestamp": 1713210763314,
          "user_tz": -120,
          "elapsed": 554,
          "user": {
            "displayName": "",
            "userId": ""
          }
        },
        "outputId": "952d69a8-08f3-48c7-e49f-3a476f33cec4"
      },
      "execution_count": 4,
      "outputs": [
        {
          "output_type": "execute_result",
          "data": {
            "text/plain": [
              "(19847676, 24)"
            ]
          },
          "metadata": {},
          "execution_count": 4
        }
      ]
    },
    {
      "cell_type": "code",
      "source": [
        "results.columns"
      ],
      "metadata": {
        "colab": {
          "base_uri": "https://localhost:8080/"
        },
        "id": "hqa06kj2ABPa",
        "executionInfo": {
          "status": "ok",
          "timestamp": 1713210761175,
          "user_tz": -120,
          "elapsed": 495,
          "user": {
            "displayName": "",
            "userId": ""
          }
        },
        "outputId": "391d94c7-2a63-4d29-f341-361759ea8ddd"
      },
      "execution_count": 3,
      "outputs": [
        {
          "output_type": "execute_result",
          "data": {
            "text/plain": [
              "Index(['hvfhs_license_num', 'dispatching_base_num', 'originating_base_num',\n",
              "       'request_datetime', 'on_scene_datetime', 'pickup_datetime',\n",
              "       'dropoff_datetime', 'PULocationID', 'DOLocationID', 'trip_miles',\n",
              "       'trip_time', 'base_passenger_fare', 'tolls', 'bcf', 'sales_tax',\n",
              "       'congestion_surcharge', 'airport_fee', 'tips', 'driver_pay',\n",
              "       'shared_request_flag', 'shared_match_flag', 'access_a_ride_flag',\n",
              "       'wav_request_flag', 'wav_match_flag'],\n",
              "      dtype='object')"
            ]
          },
          "metadata": {},
          "execution_count": 3
        }
      ]
    },
    {
      "cell_type": "code",
      "source": [
        "type(results)"
      ],
      "metadata": {
        "colab": {
          "base_uri": "https://localhost:8080/"
        },
        "id": "NLvOOt3BLSP9",
        "executionInfo": {
          "status": "ok",
          "timestamp": 1713210767344,
          "user_tz": -120,
          "elapsed": 478,
          "user": {
            "displayName": "",
            "userId": ""
          }
        },
        "outputId": "447cd7fa-cd37-49b3-9e9c-85832544e2eb"
      },
      "execution_count": 5,
      "outputs": [
        {
          "output_type": "execute_result",
          "data": {
            "text/plain": [
              "pandas.core.frame.DataFrame"
            ]
          },
          "metadata": {},
          "execution_count": 5
        }
      ]
    },
    {
      "cell_type": "code",
      "source": [
        "# @title Example 2: Query a table with BigQuery DataFrames\n",
        "# With BigQuery DataFrames, you can use many familiar Pandas methods, but the\n",
        "# processing happens BigQuery rather than the runtime, allowing you to work with larger\n",
        "# DataFrames that would otherwise not fit in the runtime memory.\n",
        "# Learn more here: https://cloud.google.com/python/docs/reference/bigframes/latest\n",
        "\n",
        "import bigframes.pandas as bf\n",
        "\n",
        "bf.options.bigquery.location = \"US\" #this variable is set based on the dataset you chose to query\n",
        "bf.options.bigquery.project = \"de-mage\" #this variable is set based on the dataset you chose to query"
      ],
      "metadata": {
        "id": "tJSfAiHycbAj",
        "executionInfo": {
          "status": "ok",
          "timestamp": 1713205471319,
          "user_tz": -120,
          "elapsed": 661,
          "user": {
            "displayName": "",
            "userId": ""
          }
        }
      },
      "execution_count": 9,
      "outputs": []
    },
    {
      "cell_type": "code",
      "source": [
        "df = bf.read_gbq(\"de-mage.None.dev_test_config_load_from_gcs_v1\") #this variable is set based on the dataset you chose to query"
      ],
      "metadata": {
        "id": "fUsQzlgjiA_G",
        "colab": {
          "base_uri": "https://localhost:8080/"
        },
        "executionInfo": {
          "status": "ok",
          "timestamp": 1713205474656,
          "user_tz": -120,
          "elapsed": 1006,
          "user": {
            "displayName": "",
            "userId": ""
          }
        },
        "outputId": "7b1b10b6-145e-4057-a2c1-e4873554a66f"
      },
      "execution_count": 10,
      "outputs": [
        {
          "output_type": "stream",
          "name": "stderr",
          "text": [
            "<ipython-input-10-801ac56fa4f9>:1: UserWarning: Reading cached table from 2024-04-15 18:20:45.539413+00:00 to avoid incompatibilies with previous reads of this table. To read the latest version, set `use_cache=False` or close the current session with Session.close() or bigframes.pandas.close_session().\n",
            "  df = bf.read_gbq(\"de-mage.None.dev_test_config_load_from_gcs_v1\") #this variable is set based on the dataset you chose to query\n"
          ]
        }
      ]
    },
    {
      "cell_type": "code",
      "source": [
        "# BigFrames can work with tables that are too large to fit in the notebook memory.\n",
        "# Look at the first 20 rows.\n",
        "df.head(20)"
      ],
      "metadata": {
        "id": "YQguJBV6iRSI",
        "colab": {
          "base_uri": "https://localhost:8080/",
          "height": 1000
        },
        "executionInfo": {
          "status": "ok",
          "timestamp": 1713205499671,
          "user_tz": -120,
          "elapsed": 22394,
          "user": {
            "displayName": "",
            "userId": ""
          }
        },
        "outputId": "fe812c79-82fa-463f-f155-77a2e86e160a"
      },
      "execution_count": 11,
      "outputs": [
        {
          "output_type": "display_data",
          "data": {
            "text/plain": [
              "<IPython.core.display.HTML object>"
            ],
            "text/html": [
              "Query job ca6fbf4d-3881-4e86-8c8b-0494fbbc053f is DONE. 3.2 GB processed. <a target=\"_blank\" href=\"https://console.cloud.google.com/bigquery?project=de-mage&j=bq:US:ca6fbf4d-3881-4e86-8c8b-0494fbbc053f&page=queryresults\">Open Job</a>"
            ]
          },
          "metadata": {}
        },
        {
          "output_type": "display_data",
          "data": {
            "text/plain": [
              "<IPython.core.display.HTML object>"
            ],
            "text/html": [
              "Query job 196539ff-28e5-48c6-b2cc-c0383011b87f is DONE. 0 Bytes processed. <a target=\"_blank\" href=\"https://console.cloud.google.com/bigquery?project=de-mage&j=bq:US:196539ff-28e5-48c6-b2cc-c0383011b87f&page=queryresults\">Open Job</a>"
            ]
          },
          "metadata": {}
        },
        {
          "output_type": "display_data",
          "data": {
            "text/plain": [
              "<IPython.core.display.HTML object>"
            ],
            "text/html": [
              "Query job 4ee15e41-1c38-4f2a-a7c3-9558becb772c is DONE. 3.5 kB processed. <a target=\"_blank\" href=\"https://console.cloud.google.com/bigquery?project=de-mage&j=bq:US:4ee15e41-1c38-4f2a-a7c3-9558becb772c&page=queryresults\">Open Job</a>"
            ]
          },
          "metadata": {}
        },
        {
          "output_type": "execute_result",
          "data": {
            "text/plain": [
              "   hvfhs_license_num dispatching_base_num originating_base_num  \\\n",
              "0             HV0003               B03404               B03404   \n",
              "1             HV0003               B03404               B03404   \n",
              "2             HV0005               B03406                 <NA>   \n",
              "3             HV0003               B03404               B03404   \n",
              "4             HV0005               B03406                 <NA>   \n",
              "5             HV0005               B03406                 <NA>   \n",
              "6             HV0005               B03406                 <NA>   \n",
              "7             HV0005               B03406                 <NA>   \n",
              "8             HV0003               B03404               B03404   \n",
              "9             HV0003               B03404               B03404   \n",
              "10            HV0005               B03406                 <NA>   \n",
              "11            HV0005               B03406                 <NA>   \n",
              "12            HV0005               B03406                 <NA>   \n",
              "13            HV0003               B03404               B03404   \n",
              "14            HV0003               B03404               B03404   \n",
              "15            HV0005               B03406                 <NA>   \n",
              "16            HV0005               B03406                 <NA>   \n",
              "17            HV0005               B03406                 <NA>   \n",
              "18            HV0005               B03406                 <NA>   \n",
              "19            HV0003               B03404               B03404   \n",
              "\n",
              "       request_datetime    on_scene_datetime      pickup_datetime  \\\n",
              "0   2023-05-06 19:52:36  2023-05-06 19:53:43  2023-05-06 19:53:51   \n",
              "1   2023-05-08 13:16:33  2023-05-08 13:23:52  2023-05-08 13:24:35   \n",
              "2   2023-05-03 15:41:33                 <NA>  2023-05-03 15:46:55   \n",
              "3   2023-05-26 03:27:36  2023-05-26 03:30:36  2023-05-26 03:32:37   \n",
              "4   2023-05-20 08:14:21                 <NA>  2023-05-20 08:19:49   \n",
              "5   2023-05-16 00:07:29                 <NA>  2023-05-16 00:13:58   \n",
              "6   2023-05-23 12:11:26                 <NA>  2023-05-23 12:16:06   \n",
              "7   2023-05-04 04:43:14                 <NA>  2023-05-04 04:48:54   \n",
              "8   2023-05-16 14:40:34  2023-05-16 14:46:44  2023-05-16 14:48:29   \n",
              "9   2023-05-24 07:58:10  2023-05-24 08:03:18  2023-05-24 08:04:11   \n",
              "10  2023-05-11 15:18:20                 <NA>  2023-05-11 15:26:42   \n",
              "11  2023-05-23 12:54:17                 <NA>  2023-05-23 12:57:12   \n",
              "12  2023-05-12 07:01:19                 <NA>  2023-05-12 07:03:20   \n",
              "13  2023-05-24 20:46:23  2023-05-24 20:47:30  2023-05-24 20:49:59   \n",
              "14  2023-05-21 12:27:56  2023-05-21 12:32:11  2023-05-21 12:32:15   \n",
              "15  2023-05-17 16:06:32                 <NA>  2023-05-17 16:23:18   \n",
              "16  2023-05-09 23:22:51                 <NA>  2023-05-09 23:35:03   \n",
              "17  2023-05-18 04:06:12                 <NA>  2023-05-18 04:17:57   \n",
              "18  2023-05-19 20:00:55                 <NA>  2023-05-19 20:04:11   \n",
              "19  2023-05-14 16:53:04  2023-05-14 16:54:44  2023-05-14 16:54:49   \n",
              "\n",
              "       dropoff_datetime  PULocationID  DOLocationID  trip_miles  ...  \\\n",
              "0   2023-05-06 19:59:37            36            80         0.7  ...   \n",
              "1   2023-05-08 13:53:46           138           161       10.32  ...   \n",
              "2   2023-05-03 15:58:43            61            62       1.212  ...   \n",
              "3   2023-05-26 03:54:54            10           138        9.68  ...   \n",
              "4   2023-05-20 08:28:14            16            15       2.673  ...   \n",
              "5   2023-05-16 00:22:05            72            71       1.674  ...   \n",
              "6   2023-05-23 12:27:51           152            41       1.708  ...   \n",
              "7   2023-05-04 05:02:17           258            82       3.859  ...   \n",
              "8   2023-05-16 15:04:43           130            93        5.24  ...   \n",
              "9   2023-05-24 08:14:37            90            68        1.43  ...   \n",
              "10  2023-05-11 15:40:17           188            62       1.962  ...   \n",
              "11  2023-05-23 14:02:18            76           181       7.243  ...   \n",
              "12  2023-05-12 07:23:41           231           140       7.694  ...   \n",
              "13  2023-05-24 21:10:01           246            79        3.28  ...   \n",
              "14  2023-05-21 12:50:45            78           179        7.39  ...   \n",
              "15  2023-05-17 17:11:22           138           162       8.161  ...   \n",
              "16  2023-05-09 23:59:19           138            87       12.14  ...   \n",
              "17  2023-05-18 04:25:58           255            17       2.375  ...   \n",
              "18  2023-05-19 20:16:57           126           182       3.381  ...   \n",
              "19  2023-05-14 17:11:38            55           149         2.6  ...   \n",
              "\n",
              "    sales_tax  congestion_surcharge  airport_fee   tips  driver_pay  \\\n",
              "0        0.71                   0.0          0.0    0.0        5.39   \n",
              "1         5.7                  2.75          2.5  14.91       30.43   \n",
              "2        0.87                   0.0          0.0    0.0        8.23   \n",
              "3        2.49                   0.0          2.5    0.0       25.78   \n",
              "4        1.01                   0.0          0.0    0.0        8.24   \n",
              "5        0.79                   0.0          0.0    0.0        6.76   \n",
              "6        1.19                   0.0          0.0    2.0        8.85   \n",
              "7        1.58                   0.0          0.0    0.0       12.59   \n",
              "8        1.43                   0.0          0.0    0.0       18.07   \n",
              "9        0.75                  2.75          0.0    0.0        7.84   \n",
              "10       1.27                   0.0          0.0    3.0       10.21   \n",
              "11        3.4                   0.0          0.0    0.0       49.05   \n",
              "12       2.38                  2.75          0.0    0.0       21.54   \n",
              "13       2.91                  2.75          0.0    0.0       30.33   \n",
              "14       3.01                   0.0          0.0    0.0       20.15   \n",
              "15       3.81                  2.75          2.5    0.0       37.75   \n",
              "16        4.0                  2.75          2.5    0.0       29.58   \n",
              "17       0.78                   0.0          0.0    0.0        7.63   \n",
              "18       1.38                   0.0          0.0    0.0       11.62   \n",
              "19       1.16                   0.0          0.0    5.0       12.91   \n",
              "\n",
              "    shared_request_flag  shared_match_flag  access_a_ride_flag  \\\n",
              "0                     N                  N                       \n",
              "1                     N                  N                       \n",
              "2                     N                  N                   N   \n",
              "3                     N                  N                       \n",
              "4                     N                  N                   N   \n",
              "5                     N                  N                   N   \n",
              "6                     N                  N                   N   \n",
              "7                     N                  N                   N   \n",
              "8                     N                  N                       \n",
              "9                     N                  N                       \n",
              "10                    N                  N                   N   \n",
              "11                    N                  N                   N   \n",
              "12                    N                  N                   N   \n",
              "13                    N                  N                       \n",
              "14                    N                  N                       \n",
              "15                    N                  N                   N   \n",
              "16                    N                  N                   N   \n",
              "17                    N                  N                   N   \n",
              "18                    N                  N                   N   \n",
              "19                    N                  N                       \n",
              "\n",
              "    wav_request_flag wav_match_flag  \n",
              "0                  N              N  \n",
              "1                  N              N  \n",
              "2                  N              N  \n",
              "3                  N              N  \n",
              "4                  N              N  \n",
              "5                  N              N  \n",
              "6                  N              N  \n",
              "7                  N              N  \n",
              "8                  N              Y  \n",
              "9                  N              N  \n",
              "10                 N              N  \n",
              "11                 N              Y  \n",
              "12                 N              N  \n",
              "13                 N              N  \n",
              "14                 N              N  \n",
              "15                 N              N  \n",
              "16                 N              N  \n",
              "17                 N              N  \n",
              "18                 N              N  \n",
              "19                 N              N  \n",
              "\n",
              "[20 rows x 24 columns]"
            ],
            "text/html": [
              "<div>\n",
              "<style scoped>\n",
              "    .dataframe tbody tr th:only-of-type {\n",
              "        vertical-align: middle;\n",
              "    }\n",
              "\n",
              "    .dataframe tbody tr th {\n",
              "        vertical-align: top;\n",
              "    }\n",
              "\n",
              "    .dataframe thead th {\n",
              "        text-align: right;\n",
              "    }\n",
              "</style>\n",
              "<table border=\"1\" class=\"dataframe\">\n",
              "  <thead>\n",
              "    <tr style=\"text-align: right;\">\n",
              "      <th></th>\n",
              "      <th>hvfhs_license_num</th>\n",
              "      <th>dispatching_base_num</th>\n",
              "      <th>originating_base_num</th>\n",
              "      <th>request_datetime</th>\n",
              "      <th>on_scene_datetime</th>\n",
              "      <th>pickup_datetime</th>\n",
              "      <th>dropoff_datetime</th>\n",
              "      <th>PULocationID</th>\n",
              "      <th>DOLocationID</th>\n",
              "      <th>trip_miles</th>\n",
              "      <th>...</th>\n",
              "      <th>sales_tax</th>\n",
              "      <th>congestion_surcharge</th>\n",
              "      <th>airport_fee</th>\n",
              "      <th>tips</th>\n",
              "      <th>driver_pay</th>\n",
              "      <th>shared_request_flag</th>\n",
              "      <th>shared_match_flag</th>\n",
              "      <th>access_a_ride_flag</th>\n",
              "      <th>wav_request_flag</th>\n",
              "      <th>wav_match_flag</th>\n",
              "    </tr>\n",
              "  </thead>\n",
              "  <tbody>\n",
              "    <tr>\n",
              "      <th>0</th>\n",
              "      <td>HV0003</td>\n",
              "      <td>B03404</td>\n",
              "      <td>B03404</td>\n",
              "      <td>2023-05-06 19:52:36</td>\n",
              "      <td>2023-05-06 19:53:43</td>\n",
              "      <td>2023-05-06 19:53:51</td>\n",
              "      <td>2023-05-06 19:59:37</td>\n",
              "      <td>36</td>\n",
              "      <td>80</td>\n",
              "      <td>0.7</td>\n",
              "      <td>...</td>\n",
              "      <td>0.71</td>\n",
              "      <td>0.0</td>\n",
              "      <td>0.0</td>\n",
              "      <td>0.0</td>\n",
              "      <td>5.39</td>\n",
              "      <td>N</td>\n",
              "      <td>N</td>\n",
              "      <td></td>\n",
              "      <td>N</td>\n",
              "      <td>N</td>\n",
              "    </tr>\n",
              "    <tr>\n",
              "      <th>1</th>\n",
              "      <td>HV0003</td>\n",
              "      <td>B03404</td>\n",
              "      <td>B03404</td>\n",
              "      <td>2023-05-08 13:16:33</td>\n",
              "      <td>2023-05-08 13:23:52</td>\n",
              "      <td>2023-05-08 13:24:35</td>\n",
              "      <td>2023-05-08 13:53:46</td>\n",
              "      <td>138</td>\n",
              "      <td>161</td>\n",
              "      <td>10.32</td>\n",
              "      <td>...</td>\n",
              "      <td>5.7</td>\n",
              "      <td>2.75</td>\n",
              "      <td>2.5</td>\n",
              "      <td>14.91</td>\n",
              "      <td>30.43</td>\n",
              "      <td>N</td>\n",
              "      <td>N</td>\n",
              "      <td></td>\n",
              "      <td>N</td>\n",
              "      <td>N</td>\n",
              "    </tr>\n",
              "    <tr>\n",
              "      <th>2</th>\n",
              "      <td>HV0005</td>\n",
              "      <td>B03406</td>\n",
              "      <td>&lt;NA&gt;</td>\n",
              "      <td>2023-05-03 15:41:33</td>\n",
              "      <td>&lt;NA&gt;</td>\n",
              "      <td>2023-05-03 15:46:55</td>\n",
              "      <td>2023-05-03 15:58:43</td>\n",
              "      <td>61</td>\n",
              "      <td>62</td>\n",
              "      <td>1.212</td>\n",
              "      <td>...</td>\n",
              "      <td>0.87</td>\n",
              "      <td>0.0</td>\n",
              "      <td>0.0</td>\n",
              "      <td>0.0</td>\n",
              "      <td>8.23</td>\n",
              "      <td>N</td>\n",
              "      <td>N</td>\n",
              "      <td>N</td>\n",
              "      <td>N</td>\n",
              "      <td>N</td>\n",
              "    </tr>\n",
              "    <tr>\n",
              "      <th>3</th>\n",
              "      <td>HV0003</td>\n",
              "      <td>B03404</td>\n",
              "      <td>B03404</td>\n",
              "      <td>2023-05-26 03:27:36</td>\n",
              "      <td>2023-05-26 03:30:36</td>\n",
              "      <td>2023-05-26 03:32:37</td>\n",
              "      <td>2023-05-26 03:54:54</td>\n",
              "      <td>10</td>\n",
              "      <td>138</td>\n",
              "      <td>9.68</td>\n",
              "      <td>...</td>\n",
              "      <td>2.49</td>\n",
              "      <td>0.0</td>\n",
              "      <td>2.5</td>\n",
              "      <td>0.0</td>\n",
              "      <td>25.78</td>\n",
              "      <td>N</td>\n",
              "      <td>N</td>\n",
              "      <td></td>\n",
              "      <td>N</td>\n",
              "      <td>N</td>\n",
              "    </tr>\n",
              "    <tr>\n",
              "      <th>4</th>\n",
              "      <td>HV0005</td>\n",
              "      <td>B03406</td>\n",
              "      <td>&lt;NA&gt;</td>\n",
              "      <td>2023-05-20 08:14:21</td>\n",
              "      <td>&lt;NA&gt;</td>\n",
              "      <td>2023-05-20 08:19:49</td>\n",
              "      <td>2023-05-20 08:28:14</td>\n",
              "      <td>16</td>\n",
              "      <td>15</td>\n",
              "      <td>2.673</td>\n",
              "      <td>...</td>\n",
              "      <td>1.01</td>\n",
              "      <td>0.0</td>\n",
              "      <td>0.0</td>\n",
              "      <td>0.0</td>\n",
              "      <td>8.24</td>\n",
              "      <td>N</td>\n",
              "      <td>N</td>\n",
              "      <td>N</td>\n",
              "      <td>N</td>\n",
              "      <td>N</td>\n",
              "    </tr>\n",
              "    <tr>\n",
              "      <th>5</th>\n",
              "      <td>HV0005</td>\n",
              "      <td>B03406</td>\n",
              "      <td>&lt;NA&gt;</td>\n",
              "      <td>2023-05-16 00:07:29</td>\n",
              "      <td>&lt;NA&gt;</td>\n",
              "      <td>2023-05-16 00:13:58</td>\n",
              "      <td>2023-05-16 00:22:05</td>\n",
              "      <td>72</td>\n",
              "      <td>71</td>\n",
              "      <td>1.674</td>\n",
              "      <td>...</td>\n",
              "      <td>0.79</td>\n",
              "      <td>0.0</td>\n",
              "      <td>0.0</td>\n",
              "      <td>0.0</td>\n",
              "      <td>6.76</td>\n",
              "      <td>N</td>\n",
              "      <td>N</td>\n",
              "      <td>N</td>\n",
              "      <td>N</td>\n",
              "      <td>N</td>\n",
              "    </tr>\n",
              "    <tr>\n",
              "      <th>6</th>\n",
              "      <td>HV0005</td>\n",
              "      <td>B03406</td>\n",
              "      <td>&lt;NA&gt;</td>\n",
              "      <td>2023-05-23 12:11:26</td>\n",
              "      <td>&lt;NA&gt;</td>\n",
              "      <td>2023-05-23 12:16:06</td>\n",
              "      <td>2023-05-23 12:27:51</td>\n",
              "      <td>152</td>\n",
              "      <td>41</td>\n",
              "      <td>1.708</td>\n",
              "      <td>...</td>\n",
              "      <td>1.19</td>\n",
              "      <td>0.0</td>\n",
              "      <td>0.0</td>\n",
              "      <td>2.0</td>\n",
              "      <td>8.85</td>\n",
              "      <td>N</td>\n",
              "      <td>N</td>\n",
              "      <td>N</td>\n",
              "      <td>N</td>\n",
              "      <td>N</td>\n",
              "    </tr>\n",
              "    <tr>\n",
              "      <th>7</th>\n",
              "      <td>HV0005</td>\n",
              "      <td>B03406</td>\n",
              "      <td>&lt;NA&gt;</td>\n",
              "      <td>2023-05-04 04:43:14</td>\n",
              "      <td>&lt;NA&gt;</td>\n",
              "      <td>2023-05-04 04:48:54</td>\n",
              "      <td>2023-05-04 05:02:17</td>\n",
              "      <td>258</td>\n",
              "      <td>82</td>\n",
              "      <td>3.859</td>\n",
              "      <td>...</td>\n",
              "      <td>1.58</td>\n",
              "      <td>0.0</td>\n",
              "      <td>0.0</td>\n",
              "      <td>0.0</td>\n",
              "      <td>12.59</td>\n",
              "      <td>N</td>\n",
              "      <td>N</td>\n",
              "      <td>N</td>\n",
              "      <td>N</td>\n",
              "      <td>N</td>\n",
              "    </tr>\n",
              "    <tr>\n",
              "      <th>8</th>\n",
              "      <td>HV0003</td>\n",
              "      <td>B03404</td>\n",
              "      <td>B03404</td>\n",
              "      <td>2023-05-16 14:40:34</td>\n",
              "      <td>2023-05-16 14:46:44</td>\n",
              "      <td>2023-05-16 14:48:29</td>\n",
              "      <td>2023-05-16 15:04:43</td>\n",
              "      <td>130</td>\n",
              "      <td>93</td>\n",
              "      <td>5.24</td>\n",
              "      <td>...</td>\n",
              "      <td>1.43</td>\n",
              "      <td>0.0</td>\n",
              "      <td>0.0</td>\n",
              "      <td>0.0</td>\n",
              "      <td>18.07</td>\n",
              "      <td>N</td>\n",
              "      <td>N</td>\n",
              "      <td></td>\n",
              "      <td>N</td>\n",
              "      <td>Y</td>\n",
              "    </tr>\n",
              "    <tr>\n",
              "      <th>9</th>\n",
              "      <td>HV0003</td>\n",
              "      <td>B03404</td>\n",
              "      <td>B03404</td>\n",
              "      <td>2023-05-24 07:58:10</td>\n",
              "      <td>2023-05-24 08:03:18</td>\n",
              "      <td>2023-05-24 08:04:11</td>\n",
              "      <td>2023-05-24 08:14:37</td>\n",
              "      <td>90</td>\n",
              "      <td>68</td>\n",
              "      <td>1.43</td>\n",
              "      <td>...</td>\n",
              "      <td>0.75</td>\n",
              "      <td>2.75</td>\n",
              "      <td>0.0</td>\n",
              "      <td>0.0</td>\n",
              "      <td>7.84</td>\n",
              "      <td>N</td>\n",
              "      <td>N</td>\n",
              "      <td></td>\n",
              "      <td>N</td>\n",
              "      <td>N</td>\n",
              "    </tr>\n",
              "    <tr>\n",
              "      <th>10</th>\n",
              "      <td>HV0005</td>\n",
              "      <td>B03406</td>\n",
              "      <td>&lt;NA&gt;</td>\n",
              "      <td>2023-05-11 15:18:20</td>\n",
              "      <td>&lt;NA&gt;</td>\n",
              "      <td>2023-05-11 15:26:42</td>\n",
              "      <td>2023-05-11 15:40:17</td>\n",
              "      <td>188</td>\n",
              "      <td>62</td>\n",
              "      <td>1.962</td>\n",
              "      <td>...</td>\n",
              "      <td>1.27</td>\n",
              "      <td>0.0</td>\n",
              "      <td>0.0</td>\n",
              "      <td>3.0</td>\n",
              "      <td>10.21</td>\n",
              "      <td>N</td>\n",
              "      <td>N</td>\n",
              "      <td>N</td>\n",
              "      <td>N</td>\n",
              "      <td>N</td>\n",
              "    </tr>\n",
              "    <tr>\n",
              "      <th>11</th>\n",
              "      <td>HV0005</td>\n",
              "      <td>B03406</td>\n",
              "      <td>&lt;NA&gt;</td>\n",
              "      <td>2023-05-23 12:54:17</td>\n",
              "      <td>&lt;NA&gt;</td>\n",
              "      <td>2023-05-23 12:57:12</td>\n",
              "      <td>2023-05-23 14:02:18</td>\n",
              "      <td>76</td>\n",
              "      <td>181</td>\n",
              "      <td>7.243</td>\n",
              "      <td>...</td>\n",
              "      <td>3.4</td>\n",
              "      <td>0.0</td>\n",
              "      <td>0.0</td>\n",
              "      <td>0.0</td>\n",
              "      <td>49.05</td>\n",
              "      <td>N</td>\n",
              "      <td>N</td>\n",
              "      <td>N</td>\n",
              "      <td>N</td>\n",
              "      <td>Y</td>\n",
              "    </tr>\n",
              "    <tr>\n",
              "      <th>12</th>\n",
              "      <td>HV0005</td>\n",
              "      <td>B03406</td>\n",
              "      <td>&lt;NA&gt;</td>\n",
              "      <td>2023-05-12 07:01:19</td>\n",
              "      <td>&lt;NA&gt;</td>\n",
              "      <td>2023-05-12 07:03:20</td>\n",
              "      <td>2023-05-12 07:23:41</td>\n",
              "      <td>231</td>\n",
              "      <td>140</td>\n",
              "      <td>7.694</td>\n",
              "      <td>...</td>\n",
              "      <td>2.38</td>\n",
              "      <td>2.75</td>\n",
              "      <td>0.0</td>\n",
              "      <td>0.0</td>\n",
              "      <td>21.54</td>\n",
              "      <td>N</td>\n",
              "      <td>N</td>\n",
              "      <td>N</td>\n",
              "      <td>N</td>\n",
              "      <td>N</td>\n",
              "    </tr>\n",
              "    <tr>\n",
              "      <th>13</th>\n",
              "      <td>HV0003</td>\n",
              "      <td>B03404</td>\n",
              "      <td>B03404</td>\n",
              "      <td>2023-05-24 20:46:23</td>\n",
              "      <td>2023-05-24 20:47:30</td>\n",
              "      <td>2023-05-24 20:49:59</td>\n",
              "      <td>2023-05-24 21:10:01</td>\n",
              "      <td>246</td>\n",
              "      <td>79</td>\n",
              "      <td>3.28</td>\n",
              "      <td>...</td>\n",
              "      <td>2.91</td>\n",
              "      <td>2.75</td>\n",
              "      <td>0.0</td>\n",
              "      <td>0.0</td>\n",
              "      <td>30.33</td>\n",
              "      <td>N</td>\n",
              "      <td>N</td>\n",
              "      <td></td>\n",
              "      <td>N</td>\n",
              "      <td>N</td>\n",
              "    </tr>\n",
              "    <tr>\n",
              "      <th>14</th>\n",
              "      <td>HV0003</td>\n",
              "      <td>B03404</td>\n",
              "      <td>B03404</td>\n",
              "      <td>2023-05-21 12:27:56</td>\n",
              "      <td>2023-05-21 12:32:11</td>\n",
              "      <td>2023-05-21 12:32:15</td>\n",
              "      <td>2023-05-21 12:50:45</td>\n",
              "      <td>78</td>\n",
              "      <td>179</td>\n",
              "      <td>7.39</td>\n",
              "      <td>...</td>\n",
              "      <td>3.01</td>\n",
              "      <td>0.0</td>\n",
              "      <td>0.0</td>\n",
              "      <td>0.0</td>\n",
              "      <td>20.15</td>\n",
              "      <td>N</td>\n",
              "      <td>N</td>\n",
              "      <td></td>\n",
              "      <td>N</td>\n",
              "      <td>N</td>\n",
              "    </tr>\n",
              "    <tr>\n",
              "      <th>15</th>\n",
              "      <td>HV0005</td>\n",
              "      <td>B03406</td>\n",
              "      <td>&lt;NA&gt;</td>\n",
              "      <td>2023-05-17 16:06:32</td>\n",
              "      <td>&lt;NA&gt;</td>\n",
              "      <td>2023-05-17 16:23:18</td>\n",
              "      <td>2023-05-17 17:11:22</td>\n",
              "      <td>138</td>\n",
              "      <td>162</td>\n",
              "      <td>8.161</td>\n",
              "      <td>...</td>\n",
              "      <td>3.81</td>\n",
              "      <td>2.75</td>\n",
              "      <td>2.5</td>\n",
              "      <td>0.0</td>\n",
              "      <td>37.75</td>\n",
              "      <td>N</td>\n",
              "      <td>N</td>\n",
              "      <td>N</td>\n",
              "      <td>N</td>\n",
              "      <td>N</td>\n",
              "    </tr>\n",
              "    <tr>\n",
              "      <th>16</th>\n",
              "      <td>HV0005</td>\n",
              "      <td>B03406</td>\n",
              "      <td>&lt;NA&gt;</td>\n",
              "      <td>2023-05-09 23:22:51</td>\n",
              "      <td>&lt;NA&gt;</td>\n",
              "      <td>2023-05-09 23:35:03</td>\n",
              "      <td>2023-05-09 23:59:19</td>\n",
              "      <td>138</td>\n",
              "      <td>87</td>\n",
              "      <td>12.14</td>\n",
              "      <td>...</td>\n",
              "      <td>4.0</td>\n",
              "      <td>2.75</td>\n",
              "      <td>2.5</td>\n",
              "      <td>0.0</td>\n",
              "      <td>29.58</td>\n",
              "      <td>N</td>\n",
              "      <td>N</td>\n",
              "      <td>N</td>\n",
              "      <td>N</td>\n",
              "      <td>N</td>\n",
              "    </tr>\n",
              "    <tr>\n",
              "      <th>17</th>\n",
              "      <td>HV0005</td>\n",
              "      <td>B03406</td>\n",
              "      <td>&lt;NA&gt;</td>\n",
              "      <td>2023-05-18 04:06:12</td>\n",
              "      <td>&lt;NA&gt;</td>\n",
              "      <td>2023-05-18 04:17:57</td>\n",
              "      <td>2023-05-18 04:25:58</td>\n",
              "      <td>255</td>\n",
              "      <td>17</td>\n",
              "      <td>2.375</td>\n",
              "      <td>...</td>\n",
              "      <td>0.78</td>\n",
              "      <td>0.0</td>\n",
              "      <td>0.0</td>\n",
              "      <td>0.0</td>\n",
              "      <td>7.63</td>\n",
              "      <td>N</td>\n",
              "      <td>N</td>\n",
              "      <td>N</td>\n",
              "      <td>N</td>\n",
              "      <td>N</td>\n",
              "    </tr>\n",
              "    <tr>\n",
              "      <th>18</th>\n",
              "      <td>HV0005</td>\n",
              "      <td>B03406</td>\n",
              "      <td>&lt;NA&gt;</td>\n",
              "      <td>2023-05-19 20:00:55</td>\n",
              "      <td>&lt;NA&gt;</td>\n",
              "      <td>2023-05-19 20:04:11</td>\n",
              "      <td>2023-05-19 20:16:57</td>\n",
              "      <td>126</td>\n",
              "      <td>182</td>\n",
              "      <td>3.381</td>\n",
              "      <td>...</td>\n",
              "      <td>1.38</td>\n",
              "      <td>0.0</td>\n",
              "      <td>0.0</td>\n",
              "      <td>0.0</td>\n",
              "      <td>11.62</td>\n",
              "      <td>N</td>\n",
              "      <td>N</td>\n",
              "      <td>N</td>\n",
              "      <td>N</td>\n",
              "      <td>N</td>\n",
              "    </tr>\n",
              "    <tr>\n",
              "      <th>19</th>\n",
              "      <td>HV0003</td>\n",
              "      <td>B03404</td>\n",
              "      <td>B03404</td>\n",
              "      <td>2023-05-14 16:53:04</td>\n",
              "      <td>2023-05-14 16:54:44</td>\n",
              "      <td>2023-05-14 16:54:49</td>\n",
              "      <td>2023-05-14 17:11:38</td>\n",
              "      <td>55</td>\n",
              "      <td>149</td>\n",
              "      <td>2.6</td>\n",
              "      <td>...</td>\n",
              "      <td>1.16</td>\n",
              "      <td>0.0</td>\n",
              "      <td>0.0</td>\n",
              "      <td>5.0</td>\n",
              "      <td>12.91</td>\n",
              "      <td>N</td>\n",
              "      <td>N</td>\n",
              "      <td></td>\n",
              "      <td>N</td>\n",
              "      <td>N</td>\n",
              "    </tr>\n",
              "  </tbody>\n",
              "</table>\n",
              "<p>20 rows × 24 columns</p>\n",
              "</div>[20 rows x 24 columns in total]"
            ]
          },
          "metadata": {},
          "execution_count": 11
        }
      ]
    },
    {
      "cell_type": "code",
      "source": [
        "df.columns"
      ],
      "metadata": {
        "colab": {
          "base_uri": "https://localhost:8080/"
        },
        "id": "R_oD-_r3Ak-0",
        "executionInfo": {
          "status": "ok",
          "timestamp": 1713205586074,
          "user_tz": -120,
          "elapsed": 3,
          "user": {
            "displayName": "",
            "userId": ""
          }
        },
        "outputId": "4f9f4ac4-273b-4f23-8366-97ced6babbde"
      },
      "execution_count": 12,
      "outputs": [
        {
          "output_type": "execute_result",
          "data": {
            "text/plain": [
              "Index(['hvfhs_license_num', 'dispatching_base_num', 'originating_base_num',\n",
              "       'request_datetime', 'on_scene_datetime', 'pickup_datetime',\n",
              "       'dropoff_datetime', 'PULocationID', 'DOLocationID', 'trip_miles',\n",
              "       'trip_time', 'base_passenger_fare', 'tolls', 'bcf', 'sales_tax',\n",
              "       'congestion_surcharge', 'airport_fee', 'tips', 'driver_pay',\n",
              "       'shared_request_flag', 'shared_match_flag', 'access_a_ride_flag',\n",
              "       'wav_request_flag', 'wav_match_flag'],\n",
              "      dtype='object')"
            ]
          },
          "metadata": {},
          "execution_count": 12
        }
      ]
    },
    {
      "cell_type": "code",
      "source": [
        "results.isnull().sum()"
      ],
      "metadata": {
        "colab": {
          "base_uri": "https://localhost:8080/"
        },
        "id": "FbylM4ltDB2J",
        "executionInfo": {
          "status": "ok",
          "timestamp": 1713210813335,
          "user_tz": -120,
          "elapsed": 1003,
          "user": {
            "displayName": "",
            "userId": ""
          }
        },
        "outputId": "8f943917-b738-4672-abd7-9a6971fce69a"
      },
      "execution_count": 6,
      "outputs": [
        {
          "output_type": "execute_result",
          "data": {
            "text/plain": [
              "hvfhs_license_num             0\n",
              "dispatching_base_num          0\n",
              "originating_base_num    5560354\n",
              "request_datetime              0\n",
              "on_scene_datetime       5560354\n",
              "pickup_datetime               0\n",
              "dropoff_datetime              0\n",
              "PULocationID                  0\n",
              "DOLocationID                  0\n",
              "trip_miles                    0\n",
              "trip_time                     0\n",
              "base_passenger_fare           0\n",
              "tolls                         0\n",
              "bcf                           0\n",
              "sales_tax                     0\n",
              "congestion_surcharge          0\n",
              "airport_fee                   0\n",
              "tips                          0\n",
              "driver_pay                    0\n",
              "shared_request_flag           0\n",
              "shared_match_flag             0\n",
              "access_a_ride_flag            0\n",
              "wav_request_flag              0\n",
              "wav_match_flag                0\n",
              "dtype: int64"
            ]
          },
          "metadata": {},
          "execution_count": 6
        }
      ]
    },
    {
      "cell_type": "code",
      "source": [
        "results.info()\n"
      ],
      "metadata": {
        "colab": {
          "base_uri": "https://localhost:8080/"
        },
        "id": "qasu6YO3DNd1",
        "executionInfo": {
          "status": "ok",
          "timestamp": 1713210828681,
          "user_tz": -120,
          "elapsed": 2,
          "user": {
            "displayName": "",
            "userId": ""
          }
        },
        "outputId": "6a17d250-bb3b-44e7-edea-72d7ebc19d8f"
      },
      "execution_count": 7,
      "outputs": [
        {
          "output_type": "stream",
          "name": "stdout",
          "text": [
            "<class 'pandas.core.frame.DataFrame'>\n",
            "RangeIndex: 19847676 entries, 0 to 19847675\n",
            "Data columns (total 24 columns):\n",
            " #   Column                Dtype         \n",
            "---  ------                -----         \n",
            " 0   hvfhs_license_num     object        \n",
            " 1   dispatching_base_num  object        \n",
            " 2   originating_base_num  object        \n",
            " 3   request_datetime      datetime64[ns]\n",
            " 4   on_scene_datetime     datetime64[ns]\n",
            " 5   pickup_datetime       datetime64[ns]\n",
            " 6   dropoff_datetime      datetime64[ns]\n",
            " 7   PULocationID          Int64         \n",
            " 8   DOLocationID          Int64         \n",
            " 9   trip_miles            float64       \n",
            " 10  trip_time             Int64         \n",
            " 11  base_passenger_fare   float64       \n",
            " 12  tolls                 float64       \n",
            " 13  bcf                   float64       \n",
            " 14  sales_tax             float64       \n",
            " 15  congestion_surcharge  float64       \n",
            " 16  airport_fee           float64       \n",
            " 17  tips                  float64       \n",
            " 18  driver_pay            float64       \n",
            " 19  shared_request_flag   object        \n",
            " 20  shared_match_flag     object        \n",
            " 21  access_a_ride_flag    object        \n",
            " 22  wav_request_flag      object        \n",
            " 23  wav_match_flag        object        \n",
            "dtypes: Int64(3), datetime64[ns](4), float64(9), object(8)\n",
            "memory usage: 3.6+ GB\n"
          ]
        }
      ]
    },
    {
      "cell_type": "code",
      "source": [
        "import pandas as pd\n",
        "import numpy as np\n",
        "import matplotlib.pyplot as plt\n",
        "import matplotlib.mlab as mlab\n",
        "%matplotlib inline"
      ],
      "metadata": {
        "id": "TX3wxTGxDxVr",
        "executionInfo": {
          "status": "ok",
          "timestamp": 1713210994405,
          "user_tz": -120,
          "elapsed": 2,
          "user": {
            "displayName": "",
            "userId": ""
          }
        }
      },
      "execution_count": 18,
      "outputs": []
    },
    {
      "cell_type": "code",
      "source": [
        "df=results"
      ],
      "metadata": {
        "id": "w5lPXCy_UuCy",
        "executionInfo": {
          "status": "ok",
          "timestamp": 1713210885415,
          "user_tz": -120,
          "elapsed": 557,
          "user": {
            "displayName": "",
            "userId": ""
          }
        }
      },
      "execution_count": 8,
      "outputs": []
    },
    {
      "cell_type": "code",
      "source": [
        "df[\"pickup_datetime\"] = pd.to_datetime(df.pickup_datetime)\n",
        "df[\"dropoff_datetime\"] = pd.to_datetime(df.dropoff_datetime)\n"
      ],
      "metadata": {
        "id": "8fyIvAvgDao2",
        "executionInfo": {
          "status": "ok",
          "timestamp": 1713210907807,
          "user_tz": -120,
          "elapsed": 950,
          "user": {
            "displayName": "",
            "userId": ""
          }
        }
      },
      "execution_count": 11,
      "outputs": []
    },
    {
      "cell_type": "code",
      "source": [
        "df[\"trip_duration_seconds\"] = (df[\"dropoff_datetime\"] - df[\"pickup_datetime\"]).astype('timedelta64[s]')\n"
      ],
      "metadata": {
        "id": "Bkg1AZhrVmsl",
        "executionInfo": {
          "status": "ok",
          "timestamp": 1713211107898,
          "user_tz": -120,
          "elapsed": 1091,
          "user": {
            "displayName": "",
            "userId": ""
          }
        }
      },
      "execution_count": 21,
      "outputs": []
    },
    {
      "cell_type": "code",
      "source": [
        "df.info()\n"
      ],
      "metadata": {
        "colab": {
          "base_uri": "https://localhost:8080/"
        },
        "id": "cRNvoIcQIJj8",
        "executionInfo": {
          "status": "ok",
          "timestamp": 1713211112279,
          "user_tz": -120,
          "elapsed": 472,
          "user": {
            "displayName": "",
            "userId": ""
          }
        },
        "outputId": "3f3655cd-b467-4bfe-92bf-9e68cae6a788"
      },
      "execution_count": 22,
      "outputs": [
        {
          "output_type": "stream",
          "name": "stdout",
          "text": [
            "<class 'pandas.core.frame.DataFrame'>\n",
            "RangeIndex: 19847676 entries, 0 to 19847675\n",
            "Data columns (total 27 columns):\n",
            " #   Column                 Dtype         \n",
            "---  ------                 -----         \n",
            " 0   hvfhs_license_num      object        \n",
            " 1   dispatching_base_num   object        \n",
            " 2   originating_base_num   object        \n",
            " 3   request_datetime       datetime64[ns]\n",
            " 4   on_scene_datetime      datetime64[ns]\n",
            " 5   pickup_datetime        datetime64[ns]\n",
            " 6   dropoff_datetime       datetime64[ns]\n",
            " 7   PULocationID           Int64         \n",
            " 8   DOLocationID           Int64         \n",
            " 9   trip_miles             float64       \n",
            " 10  trip_time              Int64         \n",
            " 11  base_passenger_fare    float64       \n",
            " 12  tolls                  float64       \n",
            " 13  bcf                    float64       \n",
            " 14  sales_tax              float64       \n",
            " 15  congestion_surcharge   float64       \n",
            " 16  airport_fee            float64       \n",
            " 17  tips                   float64       \n",
            " 18  driver_pay             float64       \n",
            " 19  shared_request_flag    object        \n",
            " 20  shared_match_flag      object        \n",
            " 21  access_a_ride_flag     object        \n",
            " 22  wav_request_flag       object        \n",
            " 23  wav_match_flag         object        \n",
            " 24  daytime_flag           category      \n",
            " 25  pickup_weekday         category      \n",
            " 26  trip_duration_seconds  float64       \n",
            "dtypes: Int64(3), category(2), datetime64[ns](4), float64(10), object(8)\n",
            "memory usage: 3.8+ GB\n"
          ]
        }
      ]
    },
    {
      "cell_type": "markdown",
      "source": [
        "Calculate trip duation"
      ],
      "metadata": {
        "id": "yctUZFNqENYM"
      }
    },
    {
      "cell_type": "code",
      "source": [
        "df[\"trip_duration_seconds\"].head(5)"
      ],
      "metadata": {
        "colab": {
          "base_uri": "https://localhost:8080/"
        },
        "id": "lYs0pbpwHMlF",
        "executionInfo": {
          "status": "ok",
          "timestamp": 1713211166029,
          "user_tz": -120,
          "elapsed": 2,
          "user": {
            "displayName": "",
            "userId": ""
          }
        },
        "outputId": "e6502c66-cf6c-4f14-d412-84aac0f915a1"
      },
      "execution_count": 26,
      "outputs": [
        {
          "output_type": "execute_result",
          "data": {
            "text/plain": [
              "0     663.0\n",
              "1    1264.0\n",
              "2    3760.0\n",
              "3     894.0\n",
              "4     682.0\n",
              "Name: trip_duration_seconds, dtype: float64"
            ]
          },
          "metadata": {},
          "execution_count": 26
        }
      ]
    },
    {
      "cell_type": "markdown",
      "source": [
        "## daytime flag category"
      ],
      "metadata": {
        "id": "mN-WPtUCJhaZ"
      }
    },
    {
      "cell_type": "code",
      "source": [
        "df['daytime_flag'] = (df[\"pickup_datetime\"].dt.hour > 5) & (df[\"pickup_datetime\"].dt.hour < 18)\n",
        "df['daytime_flag'] = pd.Categorical(df['daytime_flag'])"
      ],
      "metadata": {
        "id": "iGR-SRuYJT2D",
        "executionInfo": {
          "status": "ok",
          "timestamp": 1713210925958,
          "user_tz": -120,
          "elapsed": 4086,
          "user": {
            "displayName": "",
            "userId": ""
          }
        }
      },
      "execution_count": 14,
      "outputs": []
    },
    {
      "cell_type": "markdown",
      "source": [
        "## Day of week Category"
      ],
      "metadata": {
        "id": "a9eZ_DBVJnTD"
      }
    },
    {
      "cell_type": "code",
      "source": [
        "df[\"pickup_weekday\"] = df[\"pickup_datetime\"].dt.dayofweek\n",
        "df[\"pickup_weekday\"] = pd.Categorical(df[\"pickup_weekday\"] )\n"
      ],
      "metadata": {
        "id": "H_GWulJLJqcB",
        "executionInfo": {
          "status": "ok",
          "timestamp": 1713210936228,
          "user_tz": -120,
          "elapsed": 3530,
          "user": {
            "displayName": "",
            "userId": ""
          }
        }
      },
      "execution_count": 15,
      "outputs": []
    },
    {
      "cell_type": "code",
      "source": [
        "df.info()\n"
      ],
      "metadata": {
        "colab": {
          "base_uri": "https://localhost:8080/"
        },
        "id": "o0MhZ0T4J0ju",
        "executionInfo": {
          "status": "ok",
          "timestamp": 1713211156551,
          "user_tz": -120,
          "elapsed": 502,
          "user": {
            "displayName": "",
            "userId": ""
          }
        },
        "outputId": "008785ba-6663-4b79-9a35-2ec4d88064c4"
      },
      "execution_count": 25,
      "outputs": [
        {
          "output_type": "stream",
          "name": "stdout",
          "text": [
            "<class 'pandas.core.frame.DataFrame'>\n",
            "RangeIndex: 19847676 entries, 0 to 19847675\n",
            "Data columns (total 27 columns):\n",
            " #   Column                 Dtype         \n",
            "---  ------                 -----         \n",
            " 0   hvfhs_license_num      object        \n",
            " 1   dispatching_base_num   object        \n",
            " 2   originating_base_num   object        \n",
            " 3   request_datetime       datetime64[ns]\n",
            " 4   on_scene_datetime      datetime64[ns]\n",
            " 5   pickup_datetime        datetime64[ns]\n",
            " 6   dropoff_datetime       datetime64[ns]\n",
            " 7   PULocationID           Int64         \n",
            " 8   DOLocationID           Int64         \n",
            " 9   trip_miles             float64       \n",
            " 10  trip_time              Int64         \n",
            " 11  base_passenger_fare    float64       \n",
            " 12  tolls                  float64       \n",
            " 13  bcf                    float64       \n",
            " 14  sales_tax              float64       \n",
            " 15  congestion_surcharge   float64       \n",
            " 16  airport_fee            float64       \n",
            " 17  tips                   float64       \n",
            " 18  driver_pay             float64       \n",
            " 19  shared_request_flag    object        \n",
            " 20  shared_match_flag      object        \n",
            " 21  access_a_ride_flag     object        \n",
            " 22  wav_request_flag       object        \n",
            " 23  wav_match_flag         object        \n",
            " 24  daytime_flag           category      \n",
            " 25  pickup_weekday         category      \n",
            " 26  trip_duration_seconds  float64       \n",
            "dtypes: Int64(3), category(2), datetime64[ns](4), float64(10), object(8)\n",
            "memory usage: 3.8+ GB\n"
          ]
        }
      ]
    },
    {
      "cell_type": "code",
      "source": [
        ""
      ],
      "metadata": {
        "id": "qPAg42PKVK8m"
      },
      "execution_count": null,
      "outputs": []
    },
    {
      "cell_type": "code",
      "source": [
        "fig = plt.figure(figsize=(12,12))\n",
        "\n",
        "# Create subplot 1\n",
        "ax1 = fig.add_subplot(221) # Grid of 2x2, this is suplot 1\n",
        "ax1.set_xlabel('Trip Duration')\n",
        "ax1.set_ylabel('count')\n",
        "ax1.set_title('Subplot 1: Histogram of Trip Duration')\n",
        "\n",
        "ax1 = plt.hist(df.trip_duration_seconds, bins=np.arange(0,4,0.2))"
      ],
      "metadata": {
        "colab": {
          "base_uri": "https://localhost:8080/",
          "height": 522
        },
        "id": "RCZEE20wKHhg",
        "executionInfo": {
          "status": "ok",
          "timestamp": 1713211204456,
          "user_tz": -120,
          "elapsed": 4462,
          "user": {
            "displayName": "",
            "userId": ""
          }
        },
        "outputId": "04e26a7f-eb73-4bb1-b240-9ca7d4651dfa"
      },
      "execution_count": 28,
      "outputs": [
        {
          "output_type": "display_data",
          "data": {
            "text/plain": [
              "<Figure size 1200x1200 with 1 Axes>"
            ],
            "image/png": "[encoded data removed]"
          },
          "metadata": {}
        }
      ]
    },
    {
      "cell_type": "code",
      "source": [
        "df['pickup_weekday'].head(5)"
      ],
      "metadata": {
        "colab": {
          "base_uri": "https://localhost:8080/"
        },
        "id": "oGoBvLpvWMni",
        "executionInfo": {
          "status": "ok",
          "timestamp": 1713211259681,
          "user_tz": -120,
          "elapsed": 3,
          "user": {
            "displayName": "",
            "userId": ""
          }
        },
        "outputId": "910e9df9-734f-4617-9021-d59b8cbc1b41"
      },
      "execution_count": 30,
      "outputs": [
        {
          "output_type": "execute_result",
          "data": {
            "text/plain": [
              "0    2\n",
              "1    0\n",
              "2    5\n",
              "3    0\n",
              "4    6\n",
              "Name: pickup_weekday, dtype: category\n",
              "Categories (7, int64): [0, 1, 2, 3, 4, 5, 6]"
            ]
          },
          "metadata": {},
          "execution_count": 30
        }
      ]
    },
    {
      "cell_type": "code",
      "source": [
        "days = {0:'Monday', 1:'Tuesday', 2:'Wednesday', 3:'Thursday', 4:'Friday', 5:'Saturday', 6:'Sunday'}\n",
        "\n",
        "df['pickup_weekday'] = df['pickup_weekday'].map(days)"
      ],
      "metadata": {
        "id": "qshkOuS6Wqo9",
        "executionInfo": {
          "status": "ok",
          "timestamp": 1713211402060,
          "user_tz": -120,
          "elapsed": 2,
          "user": {
            "displayName": "",
            "userId": ""
          }
        }
      },
      "execution_count": 32,
      "outputs": []
    },
    {
      "cell_type": "code",
      "source": [
        "plt.ticklabel_format(style = 'plain')\n",
        "'''\n",
        "ax = df['pickup_weekday'].value_counts().rename(index={1:\"Credit card\", 2:\"Cash\", 3:\"No charge\", 4:\"Dispute\"}).plot(kind='bar',\n",
        "                                    figsize=(12,7),\n",
        "                                    title=\"Frequency Counts of each Week day\")\n",
        "'''\n",
        "ax = df['pickup_weekday'].value_counts().plot(kind='bar',\n",
        "                                              figsize=(12,7), title=\"Frequency Counts of each Week day\")\n",
        "ax.set_xlabel(\"Day of Week\")\n",
        "ax.set_ylabel(\"Frequency\")\n",
        "\n",
        "plt.show()\n",
        "print(df['pickup_weekday'].value_counts())"
      ],
      "metadata": {
        "colab": {
          "base_uri": "https://localhost:8080/",
          "height": 729
        },
        "id": "tAkYmfHwKHsd",
        "executionInfo": {
          "status": "ok",
          "timestamp": 1713211406473,
          "user_tz": -120,
          "elapsed": 1170,
          "user": {
            "displayName": "",
            "userId": ""
          }
        },
        "outputId": "874623df-9ee3-4c55-fb89-048bf35edecf"
      },
      "execution_count": 33,
      "outputs": [
        {
          "output_type": "display_data",
          "data": {
            "text/plain": [
              "<Figure size 1200x700 with 1 Axes>"
            ],
            "image/png": "[encoded data removed]"
          },
          "metadata": {}
        },
        {
          "output_type": "stream",
          "name": "stdout",
          "text": [
            "Wednesday    3076240\n",
            "Saturday     3069166\n",
            "Tuesday      2876967\n",
            "Friday       2863244\n",
            "Monday       2749477\n",
            "Thursday     2620450\n",
            "Sunday       2592132\n",
            "Name: pickup_weekday, dtype: int64\n"
          ]
        }
      ]
    },
    {
      "cell_type": "code",
      "source": [],
      "metadata": {
        "id": "zILiRkDjKNaD"
      },
      "execution_count": null,
      "outputs": []
    },
    {
      "cell_type": "markdown",
      "source": [
        "# EDA"
      ],
      "metadata": {
        "id": "Tg8zWVQGKIFg"
      }
    },
    {
      "cell_type": "markdown",
      "source": [
        "## Categorical Variables"
      ],
      "metadata": {
        "id": "x15CO3jaKLdI"
      }
    },
    {
      "cell_type": "code",
      "source": [
        "\n",
        "import numpy as np\n",
        "import matplotlib.pyplot as plt\n",
        "import matplotlib.mlab as mlab\n",
        "%matplotlib inline"
      ],
      "metadata": {
        "id": "6N58hj3kLhnf",
        "executionInfo": {
          "status": "ok",
          "timestamp": 1713208441206,
          "user_tz": -120,
          "elapsed": 717,
          "user": {
            "displayName": "",
            "userId": ""
          }
        }
      },
      "execution_count": 34,
      "outputs": []
    },
    {
      "cell_type": "markdown",
      "source": [
        "## Continous variables"
      ],
      "metadata": {
        "id": "OpEO2_scMZqB"
      }
    },
    {
      "cell_type": "code",
      "source": [
        "numeric_df = df[['trip_miles', 'base_passenger_fare', 'tolls','bcf', 'sales_tax',  'congestion_surcharge', 'airport_fee', 'tips', 'driver_pay']]\n",
        "numeric_df.columns"
      ],
      "metadata": {
        "colab": {
          "base_uri": "https://localhost:8080/"
        },
        "id": "Tcx_vRPQMYmt",
        "executionInfo": {
          "status": "ok",
          "timestamp": 1713211431814,
          "user_tz": -120,
          "elapsed": 5086,
          "user": {
            "displayName": "",
            "userId": ""
          }
        },
        "outputId": "19184d9e-f8cd-44a6-d6d5-3ed10cd6b1dc"
      },
      "execution_count": 34,
      "outputs": [
        {
          "output_type": "execute_result",
          "data": {
            "text/plain": [
              "Index(['trip_miles', 'base_passenger_fare', 'tolls', 'bcf', 'sales_tax',\n",
              "       'congestion_surcharge', 'airport_fee', 'tips', 'driver_pay'],\n",
              "      dtype='object')"
            ]
          },
          "metadata": {},
          "execution_count": 34
        }
      ]
    },
    {
      "cell_type": "code",
      "source": [
        "type(numeric_df), numeric_df.head(5), len(numeric_df.columns)"
      ],
      "metadata": {
        "colab": {
          "base_uri": "https://localhost:8080/"
        },
        "id": "i1wWntGdRUNj",
        "executionInfo": {
          "status": "ok",
          "timestamp": 1713211431814,
          "user_tz": -120,
          "elapsed": 2,
          "user": {
            "displayName": "",
            "userId": ""
          }
        },
        "outputId": "f61bf4f2-5d1e-4270-b162-b0cb579d0750"
      },
      "execution_count": 35,
      "outputs": [
        {
          "output_type": "execute_result",
          "data": {
            "text/plain": [
              "(pandas.core.frame.DataFrame,\n",
              "    trip_miles  base_passenger_fare  tolls   bcf  sales_tax  \\\n",
              " 0        2.28                11.59   0.00  0.35       1.03   \n",
              " 1        6.80                46.36   0.00  1.47       4.34   \n",
              " 2       25.53                80.97   6.55  2.63       7.77   \n",
              " 3        3.08                16.93   0.00  0.51       1.50   \n",
              " 4        1.90                28.93   0.00  0.87       2.57   \n",
              " \n",
              "    congestion_surcharge  airport_fee  tips  driver_pay  \n",
              " 0                  0.00          0.0   0.0        9.23  \n",
              " 1                  0.00          2.5   0.0       37.96  \n",
              " 2                  0.00          0.0   0.0       79.67  \n",
              " 3                  0.00          0.0   0.0       12.64  \n",
              " 4                  2.75          0.0   0.0       16.62  ,\n",
              " 9)"
            ]
          },
          "metadata": {},
          "execution_count": 35
        }
      ]
    },
    {
      "cell_type": "code",
      "source": [
        "import seaborn as sns\n",
        "\n",
        "fig = plt.figure(figsize=(20, 10))\n",
        "sns.set(font_scale=1)\n",
        "sns.heatmap(numeric_df.corr(), cbar=True, annot=True, square=True,fmt='.2f', annot_kws={'size': 12}, yticklabels=numeric_df.columns, xticklabels=numeric_df.columns, cmap = 'coolwarm',lw = .1)\n",
        "plt.show()"
      ],
      "metadata": {
        "colab": {
          "base_uri": "https://localhost:8080/",
          "height": 767
        },
        "id": "PE3XX67-Opgz",
        "executionInfo": {
          "status": "ok",
          "timestamp": 1713211443704,
          "user_tz": -120,
          "elapsed": 11180,
          "user": {
            "displayName": "",
            "userId": ""
          }
        },
        "outputId": "d7ef7fca-a0ed-4dc5-de35-132d4cc25e04"
      },
      "execution_count": 36,
      "outputs": [
        {
          "output_type": "display_data",
          "data": {
            "text/plain": [
              "<Figure size 2000x1000 with 2 Axes>"
            ],
            "image/png": "[encoded data removed]"
          },
          "metadata": {}
        }
      ]
    },
    {
      "cell_type": "markdown",
      "source": [],
      "metadata": {
        "id": "I3i9nc7WTa_T"
      }
    },
    {
      "cell_type": "markdown",
      "source": [
        "## trying AutoViz"
      ],
      "metadata": {
        "id": "lVTNhv2ZTbCl"
      }
    },
    {
      "cell_type": "code",
      "source": [
        "!pip install autoviz"
      ],
      "metadata": {
        "colab": {
          "base_uri": "https://localhost:8080/",
          "height": 1000
        },
        "id": "NO_86N6_T1Ps",
        "executionInfo": {
          "status": "ok",
          "timestamp": 1713210661458,
          "user_tz": -120,
          "elapsed": 39111,
          "user": {
            "displayName": "",
            "userId": ""
          }
        },
        "outputId": "68c835c0-7c62-4b38-f21b-5af25e455f5a"
      },
      "execution_count": 56,
      "outputs": [
        {
          "output_type": "stream",
          "name": "stdout",
          "text": [
            "Collecting autoviz\n",
            "  Downloading autoviz-0.1.808-py3-none-any.whl (68 kB)\n",
            "\u001b[2K     \u001b[90m━━━━━━━━━━━━━━━━━━━━━━━━━━━━━━━━━━━━━━━━\u001b[0m \u001b[32m68.6/68.6 kB\u001b[0m \u001b[31m2.3 MB/s\u001b[0m eta \u001b[36m0:00:00\u001b[0m\n",
            "\u001b[?25hCollecting emoji (from autoviz)\n",
            "  Downloading emoji-2.11.0-py2.py3-none-any.whl (433 kB)\n",
            "\u001b[2K     \u001b[90m━━━━━━━━━━━━━━━━━━━━━━━━━━━━━━━━━━━━━━━━\u001b[0m \u001b[32m433.8/433.8 kB\u001b[0m \u001b[31m13.2 MB/s\u001b[0m eta \u001b[36m0:00:00\u001b[0m\n",
            "\u001b[?25hRequirement already satisfied: fsspec>=0.8.3 in /usr/local/lib/python3.10/dist-packages (from autoviz) (2023.6.0)\n",
            "Collecting holoviews<=1.14.9 (from autoviz)\n",
            "  Downloading holoviews-1.14.9-py2.py3-none-any.whl (4.3 MB)\n",
            "\u001b[2K     \u001b[90m━━━━━━━━━━━━━━━━━━━━━━━━━━━━━━━━━━━━━━━━\u001b[0m \u001b[32m4.3/4.3 MB\u001b[0m \u001b[31m71.2 MB/s\u001b[0m eta \u001b[36m0:00:00\u001b[0m\n",
            "\u001b[?25hCollecting hvplot~=0.7.3 (from autoviz)\n",
            "  Downloading hvplot-0.7.3-py2.py3-none-any.whl (3.1 MB)\n",
            "\u001b[2K     \u001b[90m━━━━━━━━━━━━━━━━━━━━━━━━━━━━━━━━━━━━━━━━\u001b[0m \u001b[32m3.1/3.1 MB\u001b[0m \u001b[31m83.2 MB/s\u001b[0m eta \u001b[36m0:00:00\u001b[0m\n",
            "\u001b[?25hRequirement already satisfied: matplotlib<=3.7.4 in /usr/local/lib/python3.10/dist-packages (from autoviz) (3.7.1)\n",
            "Requirement already satisfied: nltk in /usr/local/lib/python3.10/dist-packages (from autoviz) (3.8.1)\n",
            "Collecting numpy<1.25.0 (from autoviz)\n",
            "  Downloading numpy-1.24.4-cp310-cp310-manylinux_2_17_x86_64.manylinux2014_x86_64.whl (17.3 MB)\n",
            "\u001b[2K     \u001b[90m━━━━━━━━━━━━━━━━━━━━━━━━━━━━━━━━━━━━━━━━\u001b[0m \u001b[32m17.3/17.3 MB\u001b[0m \u001b[31m69.7 MB/s\u001b[0m eta \u001b[36m0:00:00\u001b[0m\n",
            "\u001b[?25hCollecting pandas-dq>=1.29 (from autoviz)\n",
            "  Downloading pandas_dq-1.29-py3-none-any.whl (29 kB)\n",
            "Requirement already satisfied: pandas<2.0 in /usr/local/lib/python3.10/dist-packages (from autoviz) (1.5.3)\n",
            "Collecting panel~=0.14.4 (from autoviz)\n",
            "  Downloading panel-0.14.4-py2.py3-none-any.whl (20.8 MB)\n",
            "\u001b[2K     \u001b[90m━━━━━━━━━━━━━━━━━━━━━━━━━━━━━━━━━━━━━━━━\u001b[0m \u001b[32m20.8/20.8 MB\u001b[0m \u001b[31m60.4 MB/s\u001b[0m eta \u001b[36m0:00:00\u001b[0m\n",
            "\u001b[?25hCollecting param==1.13.0 (from autoviz)\n",
            "  Downloading param-1.13.0-py2.py3-none-any.whl (87 kB)\n",
            "\u001b[2K     \u001b[90m━━━━━━━━━━━━━━━━━━━━━━━━━━━━━━━━━━━━━━━━\u001b[0m \u001b[32m87.3/87.3 kB\u001b[0m \u001b[31m14.1 MB/s\u001b[0m eta \u001b[36m0:00:00\u001b[0m\n",
            "\u001b[?25hCollecting pyamg (from autoviz)\n",
            "  Downloading pyamg-5.1.0-cp310-cp310-manylinux_2_17_x86_64.manylinux2014_x86_64.whl (1.9 MB)\n",
            "\u001b[2K     \u001b[90m━━━━━━━━━━━━━━━━━━━━━━━━━━━━━━━━━━━━━━━━\u001b[0m \u001b[32m1.9/1.9 MB\u001b[0m \u001b[31m86.8 MB/s\u001b[0m eta \u001b[36m0:00:00\u001b[0m\n",
            "\u001b[?25hRequirement already satisfied: scikit-learn in /usr/local/lib/python3.10/dist-packages (from autoviz) (1.2.2)\n",
            "Requirement already satisfied: seaborn>=0.12.2 in /usr/local/lib/python3.10/dist-packages (from autoviz) (0.13.1)\n",
            "Requirement already satisfied: statsmodels in /usr/local/lib/python3.10/dist-packages (from autoviz) (0.14.1)\n",
            "Requirement already satisfied: textblob in /usr/local/lib/python3.10/dist-packages (from autoviz) (0.17.1)\n",
            "Requirement already satisfied: typing-extensions>=4.1.1 in /usr/local/lib/python3.10/dist-packages (from autoviz) (4.10.0)\n",
            "Requirement already satisfied: wordcloud in /usr/local/lib/python3.10/dist-packages (from autoviz) (1.9.3)\n",
            "Collecting xgboost<1.7,>=0.82 (from autoviz)\n",
            "  Downloading xgboost-1.6.2-py3-none-manylinux2014_x86_64.whl (255.9 MB)\n",
            "\u001b[2K     \u001b[90m━━━━━━━━━━━━━━━━━━━━━━━━━━━━━━━━━━━━━━━━\u001b[0m \u001b[32m255.9/255.9 MB\u001b[0m \u001b[31m5.0 MB/s\u001b[0m eta \u001b[36m0:00:00\u001b[0m\n",
            "\u001b[?25hRequirement already satisfied: xlrd in /usr/local/lib/python3.10/dist-packages (from autoviz) (2.0.1)\n",
            "Requirement already satisfied: pyviz-comms>=0.7.4 in /usr/local/lib/python3.10/dist-packages (from holoviews<=1.14.9->autoviz) (3.0.2)\n",
            "Requirement already satisfied: colorcet in /usr/local/lib/python3.10/dist-packages (from holoviews<=1.14.9->autoviz) (3.1.0)\n",
            "Requirement already satisfied: packaging in /usr/local/lib/python3.10/dist-packages (from holoviews<=1.14.9->autoviz) (24.0)\n",
            "Requirement already satisfied: bokeh>=1.0.0 in /usr/local/lib/python3.10/dist-packages (from hvplot~=0.7.3->autoviz) (3.3.4)\n",
            "Requirement already satisfied: contourpy>=1.0.1 in /usr/local/lib/python3.10/dist-packages (from matplotlib<=3.7.4->autoviz) (1.2.0)\n",
            "Requirement already satisfied: cycler>=0.10 in /usr/local/lib/python3.10/dist-packages (from matplotlib<=3.7.4->autoviz) (0.12.1)\n",
            "Requirement already satisfied: fonttools>=4.22.0 in /usr/local/lib/python3.10/dist-packages (from matplotlib<=3.7.4->autoviz) (4.50.0)\n",
            "Requirement already satisfied: kiwisolver>=1.0.1 in /usr/local/lib/python3.10/dist-packages (from matplotlib<=3.7.4->autoviz) (1.4.5)\n",
            "Requirement already satisfied: pillow>=6.2.0 in /usr/local/lib/python3.10/dist-packages (from matplotlib<=3.7.4->autoviz) (9.4.0)\n",
            "Requirement already satisfied: pyparsing>=2.3.1 in /usr/local/lib/python3.10/dist-packages (from matplotlib<=3.7.4->autoviz) (3.1.2)\n",
            "Requirement already satisfied: python-dateutil>=2.7 in /usr/local/lib/python3.10/dist-packages (from matplotlib<=3.7.4->autoviz) (2.8.2)\n",
            "Requirement already satisfied: pytz>=2020.1 in /usr/local/lib/python3.10/dist-packages (from pandas<2.0->autoviz) (2023.4)\n",
            "Collecting bokeh>=1.0.0 (from hvplot~=0.7.3->autoviz)\n",
            "  Downloading bokeh-2.4.3-py3-none-any.whl (18.5 MB)\n",
            "\u001b[2K     \u001b[90m━━━━━━━━━━━━━━━━━━━━━━━━━━━━━━━━━━━━━━━━\u001b[0m \u001b[32m18.5/18.5 MB\u001b[0m \u001b[31m58.4 MB/s\u001b[0m eta \u001b[36m0:00:00\u001b[0m\n",
            "\u001b[?25hRequirement already satisfied: markdown in /usr/local/lib/python3.10/dist-packages (from panel~=0.14.4->autoviz) (3.6)\n",
            "Requirement already satisfied: requests in /usr/local/lib/python3.10/dist-packages (from panel~=0.14.4->autoviz) (2.31.0)\n",
            "Requirement already satisfied: tqdm>=4.48.0 in /usr/local/lib/python3.10/dist-packages (from panel~=0.14.4->autoviz) (4.66.2)\n",
            "Collecting pyct>=0.4.4 (from panel~=0.14.4->autoviz)\n",
            "  Downloading pyct-0.5.0-py2.py3-none-any.whl (15 kB)\n",
            "Requirement already satisfied: bleach in /usr/local/lib/python3.10/dist-packages (from panel~=0.14.4->autoviz) (6.1.0)\n",
            "Requirement already satisfied: setuptools>=42 in /usr/local/lib/python3.10/dist-packages (from panel~=0.14.4->autoviz) (67.7.2)\n",
            "Requirement already satisfied: scipy>=1.3.2 in /usr/local/lib/python3.10/dist-packages (from scikit-learn->autoviz) (1.11.4)\n",
            "Requirement already satisfied: joblib>=1.1.1 in /usr/local/lib/python3.10/dist-packages (from scikit-learn->autoviz) (1.3.2)\n",
            "Requirement already satisfied: threadpoolctl>=2.0.0 in /usr/local/lib/python3.10/dist-packages (from scikit-learn->autoviz) (3.4.0)\n",
            "Requirement already satisfied: click in /usr/local/lib/python3.10/dist-packages (from nltk->autoviz) (8.1.7)\n",
            "Requirement already satisfied: regex>=2021.8.3 in /usr/local/lib/python3.10/dist-packages (from nltk->autoviz) (2023.12.25)\n",
            "Requirement already satisfied: patsy>=0.5.4 in /usr/local/lib/python3.10/dist-packages (from statsmodels->autoviz) (0.5.6)\n",
            "Requirement already satisfied: Jinja2>=2.9 in /usr/local/lib/python3.10/dist-packages (from bokeh>=1.0.0->hvplot~=0.7.3->autoviz) (3.1.3)\n",
            "Requirement already satisfied: PyYAML>=3.10 in /usr/local/lib/python3.10/dist-packages (from bokeh>=1.0.0->hvplot~=0.7.3->autoviz) (6.0.1)\n",
            "Requirement already satisfied: tornado>=5.1 in /usr/local/lib/python3.10/dist-packages (from bokeh>=1.0.0->hvplot~=0.7.3->autoviz) (6.3.3)\n",
            "Requirement already satisfied: six in /usr/local/lib/python3.10/dist-packages (from patsy>=0.5.4->statsmodels->autoviz) (1.16.0)\n",
            "Requirement already satisfied: webencodings in /usr/local/lib/python3.10/dist-packages (from bleach->panel~=0.14.4->autoviz) (0.5.1)\n",
            "Requirement already satisfied: charset-normalizer<4,>=2 in /usr/local/lib/python3.10/dist-packages (from requests->panel~=0.14.4->autoviz) (3.3.2)\n",
            "Requirement already satisfied: idna<4,>=2.5 in /usr/local/lib/python3.10/dist-packages (from requests->panel~=0.14.4->autoviz) (3.6)\n",
            "Requirement already satisfied: urllib3<3,>=1.21.1 in /usr/local/lib/python3.10/dist-packages (from requests->panel~=0.14.4->autoviz) (2.0.7)\n",
            "Requirement already satisfied: certifi>=2017.4.17 in /usr/local/lib/python3.10/dist-packages (from requests->panel~=0.14.4->autoviz) (2024.2.2)\n",
            "Requirement already satisfied: MarkupSafe>=2.0 in /usr/local/lib/python3.10/dist-packages (from Jinja2>=2.9->bokeh>=1.0.0->hvplot~=0.7.3->autoviz) (2.1.5)\n",
            "Installing collected packages: param, numpy, emoji, pyct, bokeh, xgboost, pyamg, panel, pandas-dq, holoviews, hvplot, autoviz\n",
            "  Attempting uninstall: param\n",
            "    Found existing installation: param 2.1.0\n",
            "    Uninstalling param-2.1.0:\n",
            "      Successfully uninstalled param-2.1.0\n",
            "  Attempting uninstall: numpy\n",
            "    Found existing installation: numpy 1.25.2\n",
            "    Uninstalling numpy-1.25.2:\n",
            "      Successfully uninstalled numpy-1.25.2\n",
            "  Attempting uninstall: bokeh\n",
            "    Found existing installation: bokeh 3.3.4\n",
            "    Uninstalling bokeh-3.3.4:\n",
            "      Successfully uninstalled bokeh-3.3.4\n",
            "  Attempting uninstall: xgboost\n",
            "    Found existing installation: xgboost 2.0.3\n",
            "    Uninstalling xgboost-2.0.3:\n",
            "      Successfully uninstalled xgboost-2.0.3\n",
            "  Attempting uninstall: panel\n",
            "    Found existing installation: panel 1.3.8\n",
            "    Uninstalling panel-1.3.8:\n",
            "      Successfully uninstalled panel-1.3.8\n",
            "  Attempting uninstall: holoviews\n",
            "    Found existing installation: holoviews 1.17.1\n",
            "    Uninstalling holoviews-1.17.1:\n",
            "      Successfully uninstalled holoviews-1.17.1\n",
            "Successfully installed autoviz-0.1.808 bokeh-2.4.3 emoji-2.11.0 holoviews-1.14.9 hvplot-0.7.3 numpy-1.24.4 pandas-dq-1.29 panel-0.14.4 param-1.13.0 pyamg-5.1.0 pyct-0.5.0 xgboost-1.6.2\n"
          ]
        },
        {
          "output_type": "display_data",
          "data": {
            "application/vnd.colab-display-data+json": {
              "pip_warning": {
                "packages": [
                  "numpy"
                ]
              },
              "id": "f2a16e16db304d13af33d1aa89129aef"
            }
          },
          "metadata": {}
        }
      ]
    },
    {
      "cell_type": "code",
      "source": [
        "from autoviz.AutoViz_Class import AutoViz_Class\n",
        "\n",
        "# write improved, cleaning data set to csv\n",
        "# df.to_csv(\"/content/drive/MyDrive/Datasets/yellow_tripdata_2018-09_improved.csv\")\n",
        "\n",
        "#EDA using Autoviz\n",
        "autoviz = AutoViz_Class().AutoViz(results)\n",
        ""
      ],
      "metadata": {
        "colab": {
          "base_uri": "https://localhost:8080/",
          "height": 383
        },
        "id": "nb2R3vdvTeA8",
        "executionInfo": {
          "status": "error",
          "timestamp": 1713210603254,
          "user_tz": -120,
          "elapsed": 3,
          "user": {
            "displayName": "",
            "userId": ""
          }
        },
        "outputId": "04c150e8-b875-4a78-a099-af2b8afbacd1"
      },
      "execution_count": 55,
      "outputs": [
        {
          "output_type": "error",
          "ename": "ModuleNotFoundError",
          "evalue": "No module named 'autoviz'",
          "traceback": [
            "\u001b[0;31m---------------------------------------------------------------------------\u001b[0m",
            "\u001b[0;31mModuleNotFoundError\u001b[0m                       Traceback (most recent call last)",
            "\u001b[0;32m<ipython-input-55-9c8f83c290ef>\u001b[0m in \u001b[0;36m<cell line: 1>\u001b[0;34m()\u001b[0m\n\u001b[0;32m----> 1\u001b[0;31m \u001b[0;32mfrom\u001b[0m \u001b[0mautoviz\u001b[0m\u001b[0;34m.\u001b[0m\u001b[0mAutoViz_Class\u001b[0m \u001b[0;32mimport\u001b[0m \u001b[0mAutoViz_Class\u001b[0m\u001b[0;34m\u001b[0m\u001b[0;34m\u001b[0m\u001b[0m\n\u001b[0m\u001b[1;32m      2\u001b[0m \u001b[0;34m\u001b[0m\u001b[0m\n\u001b[1;32m      3\u001b[0m \u001b[0;31m# write improved, cleaning data set to csv\u001b[0m\u001b[0;34m\u001b[0m\u001b[0;34m\u001b[0m\u001b[0m\n\u001b[1;32m      4\u001b[0m \u001b[0;31m# df.to_csv(\"/content/drive/MyDrive/Datasets/yellow_tripdata_2018-09_improved.csv\")\u001b[0m\u001b[0;34m\u001b[0m\u001b[0;34m\u001b[0m\u001b[0m\n\u001b[1;32m      5\u001b[0m \u001b[0;34m\u001b[0m\u001b[0m\n",
            "\u001b[0;31mModuleNotFoundError\u001b[0m: No module named 'autoviz'",
            "",
            "\u001b[0;31m---------------------------------------------------------------------------\u001b[0;32m\nNOTE: If your import is failing due to a missing package, you can\nmanually install dependencies using either !pip or !apt.\n\nTo view examples of installing some common dependencies, click the\n\"Open Examples\" button below.\n\u001b[0;31m---------------------------------------------------------------------------\u001b[0m\n"
          ],
          "errorDetails": {
            "actions": [
              {
                "action": "open_url",
                "actionText": "Open Examples",
                "url": "/notebooks/snippets/importing_libraries.ipynb"
              }
            ]
          }
        }
      ]
    }
  ]
}